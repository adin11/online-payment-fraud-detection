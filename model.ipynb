{
 "cells": [
  {
   "cell_type": "markdown",
   "id": "91ed075f",
   "metadata": {},
   "source": [
    " <h1 align=\"center\"> Online Payment Fraud Detection:</h1>"
   ]
  },
  {
   "cell_type": "markdown",
   "id": "88bc6048",
   "metadata": {},
   "source": [
    "<h2 align=\"center\"> A Data-Driven Machine Learning Project </h2>"
   ]
  },
  {
   "cell_type": "markdown",
   "id": "8c63e1c4",
   "metadata": {},
   "source": [
    "### Introduction:\n",
    "This project is a machine learning classification model to detect fraudulent transactions in online payments. The dataset used is highly imbalanced, with far more non-fraudulent transactions than fraudulent ones. The project explores multiple algorithms and techniques to address the imbalance and improve the detection of fraud."
   ]
  },
  {
   "cell_type": "code",
   "execution_count": 16,
   "id": "31811379",
   "metadata": {
    "execution": {
     "iopub.execute_input": "2025-01-13T10:44:28.579619Z",
     "iopub.status.busy": "2025-01-13T10:44:28.579269Z",
     "iopub.status.idle": "2025-01-13T10:44:28.729822Z",
     "shell.execute_reply": "2025-01-13T10:44:28.728442Z",
     "shell.execute_reply.started": "2025-01-13T10:44:28.579595Z"
    }
   },
   "outputs": [],
   "source": [
    "import pandas as pd\n",
    "import numpy as np\n",
    "import matplotlib.pyplot as plt\n",
    "import seaborn as sns\n",
    "\n",
    "from sklearn.model_selection import train_test_split\n",
    "from sklearn.preprocessing import MinMaxScaler, RobustScaler\n",
    "\n",
    "from sklearn.linear_model import LogisticRegression\n",
    "from sklearn.tree import DecisionTreeClassifier\n",
    "from xgboost import XGBClassifier\n",
    "from sklearn.ensemble import RandomForestClassifier\n",
    "\n",
    "\n",
    "from sklearn.metrics import accuracy_score, f1_score, confusion_matrix, classification_report, roc_auc_score, roc_curve,auc\n",
    "\n",
    "pd.set_option('display.float_format', lambda x: '{:.2f}'.format(x))\n",
    "np.set_printoptions(suppress=True)\n",
    "\n",
    "import warnings\n",
    "warnings.filterwarnings('ignore')  # To suppress warnings\n"
   ]
  },
  {
   "cell_type": "markdown",
   "id": "a8f19d4d",
   "metadata": {},
   "source": [
    "## Data Loading and Analyzing:"
   ]
  },
  {
   "cell_type": "code",
   "execution_count": 17,
   "id": "40a3852c",
   "metadata": {
    "execution": {
     "iopub.execute_input": "2025-01-13T10:40:56.153987Z",
     "iopub.status.busy": "2025-01-13T10:40:56.153646Z",
     "iopub.status.idle": "2025-01-13T10:41:10.464951Z",
     "shell.execute_reply": "2025-01-13T10:41:10.463559Z",
     "shell.execute_reply.started": "2025-01-13T10:40:56.153947Z"
    }
   },
   "outputs": [
    {
     "data": {
      "text/html": [
       "<div>\n",
       "<style scoped>\n",
       "    .dataframe tbody tr th:only-of-type {\n",
       "        vertical-align: middle;\n",
       "    }\n",
       "\n",
       "    .dataframe tbody tr th {\n",
       "        vertical-align: top;\n",
       "    }\n",
       "\n",
       "    .dataframe thead th {\n",
       "        text-align: right;\n",
       "    }\n",
       "</style>\n",
       "<table border=\"1\" class=\"dataframe\">\n",
       "  <thead>\n",
       "    <tr style=\"text-align: right;\">\n",
       "      <th></th>\n",
       "      <th>step</th>\n",
       "      <th>type</th>\n",
       "      <th>amount</th>\n",
       "      <th>nameOrig</th>\n",
       "      <th>oldbalanceOrg</th>\n",
       "      <th>newbalanceOrig</th>\n",
       "      <th>nameDest</th>\n",
       "      <th>oldbalanceDest</th>\n",
       "      <th>newbalanceDest</th>\n",
       "      <th>isFraud</th>\n",
       "      <th>isFlaggedFraud</th>\n",
       "    </tr>\n",
       "  </thead>\n",
       "  <tbody>\n",
       "    <tr>\n",
       "      <th>0</th>\n",
       "      <td>1</td>\n",
       "      <td>TRANSFER</td>\n",
       "      <td>181.00</td>\n",
       "      <td>C1305486145</td>\n",
       "      <td>181.00</td>\n",
       "      <td>0.00</td>\n",
       "      <td>C553264065</td>\n",
       "      <td>0.00</td>\n",
       "      <td>0.00</td>\n",
       "      <td>1</td>\n",
       "      <td>0</td>\n",
       "    </tr>\n",
       "    <tr>\n",
       "      <th>1</th>\n",
       "      <td>1</td>\n",
       "      <td>CASH_OUT</td>\n",
       "      <td>181.00</td>\n",
       "      <td>C840083671</td>\n",
       "      <td>181.00</td>\n",
       "      <td>0.00</td>\n",
       "      <td>C38997010</td>\n",
       "      <td>21182.00</td>\n",
       "      <td>0.00</td>\n",
       "      <td>1</td>\n",
       "      <td>0</td>\n",
       "    </tr>\n",
       "    <tr>\n",
       "      <th>2</th>\n",
       "      <td>1</td>\n",
       "      <td>TRANSFER</td>\n",
       "      <td>2806.00</td>\n",
       "      <td>C1420196421</td>\n",
       "      <td>2806.00</td>\n",
       "      <td>0.00</td>\n",
       "      <td>C972765878</td>\n",
       "      <td>0.00</td>\n",
       "      <td>0.00</td>\n",
       "      <td>1</td>\n",
       "      <td>0</td>\n",
       "    </tr>\n",
       "    <tr>\n",
       "      <th>3</th>\n",
       "      <td>1</td>\n",
       "      <td>CASH_OUT</td>\n",
       "      <td>2806.00</td>\n",
       "      <td>C2101527076</td>\n",
       "      <td>2806.00</td>\n",
       "      <td>0.00</td>\n",
       "      <td>C1007251739</td>\n",
       "      <td>26202.00</td>\n",
       "      <td>0.00</td>\n",
       "      <td>1</td>\n",
       "      <td>0</td>\n",
       "    </tr>\n",
       "    <tr>\n",
       "      <th>4</th>\n",
       "      <td>1</td>\n",
       "      <td>TRANSFER</td>\n",
       "      <td>20128.00</td>\n",
       "      <td>C137533655</td>\n",
       "      <td>20128.00</td>\n",
       "      <td>0.00</td>\n",
       "      <td>C1848415041</td>\n",
       "      <td>0.00</td>\n",
       "      <td>0.00</td>\n",
       "      <td>1</td>\n",
       "      <td>0</td>\n",
       "    </tr>\n",
       "  </tbody>\n",
       "</table>\n",
       "</div>"
      ],
      "text/plain": [
       "   step      type   amount     nameOrig  oldbalanceOrg  newbalanceOrig  \\\n",
       "0     1  TRANSFER   181.00  C1305486145         181.00            0.00   \n",
       "1     1  CASH_OUT   181.00   C840083671         181.00            0.00   \n",
       "2     1  TRANSFER  2806.00  C1420196421        2806.00            0.00   \n",
       "3     1  CASH_OUT  2806.00  C2101527076        2806.00            0.00   \n",
       "4     1  TRANSFER 20128.00   C137533655       20128.00            0.00   \n",
       "\n",
       "      nameDest  oldbalanceDest  newbalanceDest  isFraud  isFlaggedFraud  \n",
       "0   C553264065            0.00            0.00        1               0  \n",
       "1    C38997010        21182.00            0.00        1               0  \n",
       "2   C972765878            0.00            0.00        1               0  \n",
       "3  C1007251739        26202.00            0.00        1               0  \n",
       "4  C1848415041            0.00            0.00        1               0  "
      ]
     },
     "execution_count": 17,
     "metadata": {},
     "output_type": "execute_result"
    }
   ],
   "source": [
    "df = pd.read_csv('data1.csv')\n",
    "df.head()"
   ]
  },
  {
   "cell_type": "code",
   "execution_count": 18,
   "id": "acf832ad",
   "metadata": {
    "execution": {
     "iopub.execute_input": "2025-01-13T10:41:10.466682Z",
     "iopub.status.busy": "2025-01-13T10:41:10.466283Z",
     "iopub.status.idle": "2025-01-13T10:41:10.483686Z",
     "shell.execute_reply": "2025-01-13T10:41:10.482402Z",
     "shell.execute_reply.started": "2025-01-13T10:41:10.466643Z"
    }
   },
   "outputs": [
    {
     "name": "stdout",
     "output_type": "stream",
     "text": [
      "Rows and Columns\n",
      "(208213, 11)\n"
     ]
    },
    {
     "data": {
      "text/html": [
       "<div>\n",
       "<style scoped>\n",
       "    .dataframe tbody tr th:only-of-type {\n",
       "        vertical-align: middle;\n",
       "    }\n",
       "\n",
       "    .dataframe tbody tr th {\n",
       "        vertical-align: top;\n",
       "    }\n",
       "\n",
       "    .dataframe thead th {\n",
       "        text-align: right;\n",
       "    }\n",
       "</style>\n",
       "<table border=\"1\" class=\"dataframe\">\n",
       "  <thead>\n",
       "    <tr style=\"text-align: right;\">\n",
       "      <th></th>\n",
       "      <th>step</th>\n",
       "      <th>type</th>\n",
       "      <th>amount</th>\n",
       "      <th>nameOrig</th>\n",
       "      <th>oldbalanceOrg</th>\n",
       "      <th>newbalanceOrig</th>\n",
       "      <th>nameDest</th>\n",
       "      <th>oldbalanceDest</th>\n",
       "      <th>newbalanceDest</th>\n",
       "      <th>isFraud</th>\n",
       "      <th>isFlaggedFraud</th>\n",
       "    </tr>\n",
       "  </thead>\n",
       "  <tbody>\n",
       "    <tr>\n",
       "      <th>0</th>\n",
       "      <td>1</td>\n",
       "      <td>TRANSFER</td>\n",
       "      <td>181.00</td>\n",
       "      <td>C1305486145</td>\n",
       "      <td>181.00</td>\n",
       "      <td>0.00</td>\n",
       "      <td>C553264065</td>\n",
       "      <td>0.00</td>\n",
       "      <td>0.00</td>\n",
       "      <td>1</td>\n",
       "      <td>0</td>\n",
       "    </tr>\n",
       "    <tr>\n",
       "      <th>1</th>\n",
       "      <td>1</td>\n",
       "      <td>CASH_OUT</td>\n",
       "      <td>181.00</td>\n",
       "      <td>C840083671</td>\n",
       "      <td>181.00</td>\n",
       "      <td>0.00</td>\n",
       "      <td>C38997010</td>\n",
       "      <td>21182.00</td>\n",
       "      <td>0.00</td>\n",
       "      <td>1</td>\n",
       "      <td>0</td>\n",
       "    </tr>\n",
       "    <tr>\n",
       "      <th>2</th>\n",
       "      <td>1</td>\n",
       "      <td>TRANSFER</td>\n",
       "      <td>2806.00</td>\n",
       "      <td>C1420196421</td>\n",
       "      <td>2806.00</td>\n",
       "      <td>0.00</td>\n",
       "      <td>C972765878</td>\n",
       "      <td>0.00</td>\n",
       "      <td>0.00</td>\n",
       "      <td>1</td>\n",
       "      <td>0</td>\n",
       "    </tr>\n",
       "    <tr>\n",
       "      <th>3</th>\n",
       "      <td>1</td>\n",
       "      <td>CASH_OUT</td>\n",
       "      <td>2806.00</td>\n",
       "      <td>C2101527076</td>\n",
       "      <td>2806.00</td>\n",
       "      <td>0.00</td>\n",
       "      <td>C1007251739</td>\n",
       "      <td>26202.00</td>\n",
       "      <td>0.00</td>\n",
       "      <td>1</td>\n",
       "      <td>0</td>\n",
       "    </tr>\n",
       "    <tr>\n",
       "      <th>4</th>\n",
       "      <td>1</td>\n",
       "      <td>TRANSFER</td>\n",
       "      <td>20128.00</td>\n",
       "      <td>C137533655</td>\n",
       "      <td>20128.00</td>\n",
       "      <td>0.00</td>\n",
       "      <td>C1848415041</td>\n",
       "      <td>0.00</td>\n",
       "      <td>0.00</td>\n",
       "      <td>1</td>\n",
       "      <td>0</td>\n",
       "    </tr>\n",
       "  </tbody>\n",
       "</table>\n",
       "</div>"
      ],
      "text/plain": [
       "   step      type   amount     nameOrig  oldbalanceOrg  newbalanceOrig  \\\n",
       "0     1  TRANSFER   181.00  C1305486145         181.00            0.00   \n",
       "1     1  CASH_OUT   181.00   C840083671         181.00            0.00   \n",
       "2     1  TRANSFER  2806.00  C1420196421        2806.00            0.00   \n",
       "3     1  CASH_OUT  2806.00  C2101527076        2806.00            0.00   \n",
       "4     1  TRANSFER 20128.00   C137533655       20128.00            0.00   \n",
       "\n",
       "      nameDest  oldbalanceDest  newbalanceDest  isFraud  isFlaggedFraud  \n",
       "0   C553264065            0.00            0.00        1               0  \n",
       "1    C38997010        21182.00            0.00        1               0  \n",
       "2   C972765878            0.00            0.00        1               0  \n",
       "3  C1007251739        26202.00            0.00        1               0  \n",
       "4  C1848415041            0.00            0.00        1               0  "
      ]
     },
     "execution_count": 18,
     "metadata": {},
     "output_type": "execute_result"
    }
   ],
   "source": [
    "print(\"Rows and Columns\")\n",
    "print(df.shape)\n",
    "df.head(5)"
   ]
  },
  {
   "cell_type": "markdown",
   "id": "b18df1a4",
   "metadata": {},
   "source": [
    "##### Columns\n",
    "\n",
    "\n"
   ]
  },
  {
   "cell_type": "raw",
   "id": "dfb8042f",
   "metadata": {},
   "source": [
    "step: represents a unit of time where 1 step equals 1 hour\n",
    "type: type of online transaction\n",
    "amount: the amount of the transaction\n",
    "nameOrig: The unique identifier of the origin account (e.g., sender).\n",
    "oldbalanceOrg: balance of the origin account before transaction.\n",
    "newbalanceOrig: balance of the origin account after transaction.\n",
    "nameDest: The unique identifier of the destination account (e.g., recipient).\n",
    "oldbalanceDest: initial balance of recipient before the transaction\n",
    "newbalanceDest: the new balance of recipient after the transaction\n",
    "isFraud: fraud transaction\n",
    "\n",
    "The dataset provides a clear flow of funds from nameOrig to nameDest, making it suitable for fraud pattern detection."
   ]
  },
  {
   "cell_type": "code",
   "execution_count": 19,
   "id": "2c0f448f",
   "metadata": {
    "execution": {
     "iopub.execute_input": "2025-01-13T10:41:10.486409Z",
     "iopub.status.busy": "2025-01-13T10:41:10.485752Z",
     "iopub.status.idle": "2025-01-13T10:41:10.504220Z",
     "shell.execute_reply": "2025-01-13T10:41:10.502883Z",
     "shell.execute_reply.started": "2025-01-13T10:41:10.486359Z"
    }
   },
   "outputs": [
    {
     "data": {
      "text/plain": [
       "Index(['step', 'type', 'amount', 'nameOrig', 'oldbalanceOrg', 'newbalanceOrig',\n",
       "       'nameDest', 'oldbalanceDest', 'newbalanceDest', 'isFraud',\n",
       "       'isFlaggedFraud'],\n",
       "      dtype='object')"
      ]
     },
     "execution_count": 19,
     "metadata": {},
     "output_type": "execute_result"
    }
   ],
   "source": [
    "df.columns"
   ]
  },
  {
   "cell_type": "code",
   "execution_count": 20,
   "id": "37152321",
   "metadata": {
    "execution": {
     "iopub.execute_input": "2025-01-13T10:41:10.506527Z",
     "iopub.status.busy": "2025-01-13T10:41:10.506144Z",
     "iopub.status.idle": "2025-01-13T10:41:10.528107Z",
     "shell.execute_reply": "2025-01-13T10:41:10.526533Z",
     "shell.execute_reply.started": "2025-01-13T10:41:10.506497Z"
    }
   },
   "outputs": [],
   "source": [
    "df.rename(columns={'type':'transaction_type'},inplace=True)"
   ]
  },
  {
   "cell_type": "code",
   "execution_count": 21,
   "id": "461ece22",
   "metadata": {
    "execution": {
     "iopub.execute_input": "2025-01-13T10:41:10.529544Z",
     "iopub.status.busy": "2025-01-13T10:41:10.529056Z",
     "iopub.status.idle": "2025-01-13T10:41:10.545394Z",
     "shell.execute_reply": "2025-01-13T10:41:10.543995Z",
     "shell.execute_reply.started": "2025-01-13T10:41:10.529512Z"
    }
   },
   "outputs": [
    {
     "name": "stdout",
     "output_type": "stream",
     "text": [
      "<class 'pandas.core.frame.DataFrame'>\n",
      "RangeIndex: 208213 entries, 0 to 208212\n",
      "Data columns (total 11 columns):\n",
      " #   Column            Non-Null Count   Dtype  \n",
      "---  ------            --------------   -----  \n",
      " 0   step              208213 non-null  int64  \n",
      " 1   transaction_type  208213 non-null  object \n",
      " 2   amount            208213 non-null  float64\n",
      " 3   nameOrig          208213 non-null  object \n",
      " 4   oldbalanceOrg     208213 non-null  float64\n",
      " 5   newbalanceOrig    208213 non-null  float64\n",
      " 6   nameDest          208213 non-null  object \n",
      " 7   oldbalanceDest    208213 non-null  float64\n",
      " 8   newbalanceDest    208213 non-null  float64\n",
      " 9   isFraud           208213 non-null  int64  \n",
      " 10  isFlaggedFraud    208213 non-null  int64  \n",
      "dtypes: float64(5), int64(3), object(3)\n",
      "memory usage: 17.5+ MB\n"
     ]
    }
   ],
   "source": [
    "df.info()"
   ]
  },
  {
   "cell_type": "code",
   "execution_count": 22,
   "id": "b1eebee6",
   "metadata": {
    "execution": {
     "iopub.execute_input": "2025-01-13T10:41:10.547282Z",
     "iopub.status.busy": "2025-01-13T10:41:10.546896Z",
     "iopub.status.idle": "2025-01-13T10:41:10.566855Z",
     "shell.execute_reply": "2025-01-13T10:41:10.565376Z",
     "shell.execute_reply.started": "2025-01-13T10:41:10.547249Z"
    }
   },
   "outputs": [
    {
     "data": {
      "text/html": [
       "<div>\n",
       "<style scoped>\n",
       "    .dataframe tbody tr th:only-of-type {\n",
       "        vertical-align: middle;\n",
       "    }\n",
       "\n",
       "    .dataframe tbody tr th {\n",
       "        vertical-align: top;\n",
       "    }\n",
       "\n",
       "    .dataframe thead th {\n",
       "        text-align: right;\n",
       "    }\n",
       "</style>\n",
       "<table border=\"1\" class=\"dataframe\">\n",
       "  <thead>\n",
       "    <tr style=\"text-align: right;\">\n",
       "      <th></th>\n",
       "      <th>step</th>\n",
       "      <th>amount</th>\n",
       "      <th>oldbalanceOrg</th>\n",
       "      <th>newbalanceOrig</th>\n",
       "      <th>oldbalanceDest</th>\n",
       "      <th>newbalanceDest</th>\n",
       "      <th>isFraud</th>\n",
       "      <th>isFlaggedFraud</th>\n",
       "    </tr>\n",
       "  </thead>\n",
       "  <tbody>\n",
       "    <tr>\n",
       "      <th>count</th>\n",
       "      <td>208213.00</td>\n",
       "      <td>208213.00</td>\n",
       "      <td>208213.00</td>\n",
       "      <td>208213.00</td>\n",
       "      <td>208213.00</td>\n",
       "      <td>208213.00</td>\n",
       "      <td>208213.00</td>\n",
       "      <td>208213.00</td>\n",
       "    </tr>\n",
       "    <tr>\n",
       "      <th>mean</th>\n",
       "      <td>24.21</td>\n",
       "      <td>231259.83</td>\n",
       "      <td>912345.38</td>\n",
       "      <td>872604.29</td>\n",
       "      <td>925948.79</td>\n",
       "      <td>1195510.94</td>\n",
       "      <td>0.04</td>\n",
       "      <td>0.00</td>\n",
       "    </tr>\n",
       "    <tr>\n",
       "      <th>std</th>\n",
       "      <td>81.95</td>\n",
       "      <td>627002.47</td>\n",
       "      <td>2804991.09</td>\n",
       "      <td>2778976.37</td>\n",
       "      <td>2419683.44</td>\n",
       "      <td>2715619.94</td>\n",
       "      <td>0.19</td>\n",
       "      <td>0.01</td>\n",
       "    </tr>\n",
       "    <tr>\n",
       "      <th>min</th>\n",
       "      <td>1.00</td>\n",
       "      <td>0.00</td>\n",
       "      <td>0.00</td>\n",
       "      <td>0.00</td>\n",
       "      <td>0.00</td>\n",
       "      <td>0.00</td>\n",
       "      <td>0.00</td>\n",
       "      <td>0.00</td>\n",
       "    </tr>\n",
       "    <tr>\n",
       "      <th>25%</th>\n",
       "      <td>9.00</td>\n",
       "      <td>12609.50</td>\n",
       "      <td>0.00</td>\n",
       "      <td>0.00</td>\n",
       "      <td>0.00</td>\n",
       "      <td>0.00</td>\n",
       "      <td>0.00</td>\n",
       "      <td>0.00</td>\n",
       "    </tr>\n",
       "    <tr>\n",
       "      <th>50%</th>\n",
       "      <td>10.00</td>\n",
       "      <td>76276.62</td>\n",
       "      <td>20894.00</td>\n",
       "      <td>0.00</td>\n",
       "      <td>40958.30</td>\n",
       "      <td>128019.46</td>\n",
       "      <td>0.00</td>\n",
       "      <td>0.00</td>\n",
       "    </tr>\n",
       "    <tr>\n",
       "      <th>75%</th>\n",
       "      <td>12.00</td>\n",
       "      <td>242276.47</td>\n",
       "      <td>227866.00</td>\n",
       "      <td>204284.76</td>\n",
       "      <td>738531.50</td>\n",
       "      <td>1186317.31</td>\n",
       "      <td>0.00</td>\n",
       "      <td>0.00</td>\n",
       "    </tr>\n",
       "    <tr>\n",
       "      <th>max</th>\n",
       "      <td>743.00</td>\n",
       "      <td>10000000.00</td>\n",
       "      <td>59585040.37</td>\n",
       "      <td>49585040.37</td>\n",
       "      <td>236230516.82</td>\n",
       "      <td>236726494.66</td>\n",
       "      <td>1.00</td>\n",
       "      <td>1.00</td>\n",
       "    </tr>\n",
       "  </tbody>\n",
       "</table>\n",
       "</div>"
      ],
      "text/plain": [
       "           step      amount  oldbalanceOrg  newbalanceOrig  oldbalanceDest  \\\n",
       "count 208213.00   208213.00      208213.00       208213.00       208213.00   \n",
       "mean      24.21   231259.83      912345.38       872604.29       925948.79   \n",
       "std       81.95   627002.47     2804991.09      2778976.37      2419683.44   \n",
       "min        1.00        0.00           0.00            0.00            0.00   \n",
       "25%        9.00    12609.50           0.00            0.00            0.00   \n",
       "50%       10.00    76276.62       20894.00            0.00        40958.30   \n",
       "75%       12.00   242276.47      227866.00       204284.76       738531.50   \n",
       "max      743.00 10000000.00    59585040.37     49585040.37    236230516.82   \n",
       "\n",
       "       newbalanceDest   isFraud  isFlaggedFraud  \n",
       "count       208213.00 208213.00       208213.00  \n",
       "mean       1195510.94      0.04            0.00  \n",
       "std        2715619.94      0.19            0.01  \n",
       "min              0.00      0.00            0.00  \n",
       "25%              0.00      0.00            0.00  \n",
       "50%         128019.46      0.00            0.00  \n",
       "75%        1186317.31      0.00            0.00  \n",
       "max      236726494.66      1.00            1.00  "
      ]
     },
     "execution_count": 22,
     "metadata": {},
     "output_type": "execute_result"
    }
   ],
   "source": [
    "df.describe()"
   ]
  },
  {
   "cell_type": "code",
   "execution_count": 23,
   "id": "9361beb2",
   "metadata": {
    "execution": {
     "iopub.execute_input": "2025-01-13T10:41:10.568961Z",
     "iopub.status.busy": "2025-01-13T10:41:10.568513Z",
     "iopub.status.idle": "2025-01-13T10:41:10.587316Z",
     "shell.execute_reply": "2025-01-13T10:41:10.586061Z",
     "shell.execute_reply.started": "2025-01-13T10:41:10.568921Z"
    }
   },
   "outputs": [
    {
     "data": {
      "text/html": [
       "<div>\n",
       "<style scoped>\n",
       "    .dataframe tbody tr th:only-of-type {\n",
       "        vertical-align: middle;\n",
       "    }\n",
       "\n",
       "    .dataframe tbody tr th {\n",
       "        vertical-align: top;\n",
       "    }\n",
       "\n",
       "    .dataframe thead th {\n",
       "        text-align: right;\n",
       "    }\n",
       "</style>\n",
       "<table border=\"1\" class=\"dataframe\">\n",
       "  <thead>\n",
       "    <tr style=\"text-align: right;\">\n",
       "      <th></th>\n",
       "      <th>step</th>\n",
       "      <th>transaction_type</th>\n",
       "      <th>amount</th>\n",
       "      <th>nameOrig</th>\n",
       "      <th>oldbalanceOrg</th>\n",
       "      <th>newbalanceOrig</th>\n",
       "      <th>nameDest</th>\n",
       "      <th>oldbalanceDest</th>\n",
       "      <th>newbalanceDest</th>\n",
       "      <th>isFraud</th>\n",
       "      <th>isFlaggedFraud</th>\n",
       "    </tr>\n",
       "  </thead>\n",
       "  <tbody>\n",
       "    <tr>\n",
       "      <th>0</th>\n",
       "      <td>1</td>\n",
       "      <td>TRANSFER</td>\n",
       "      <td>181.00</td>\n",
       "      <td>C1305486145</td>\n",
       "      <td>181.00</td>\n",
       "      <td>0.00</td>\n",
       "      <td>C553264065</td>\n",
       "      <td>0.00</td>\n",
       "      <td>0.00</td>\n",
       "      <td>1</td>\n",
       "      <td>0</td>\n",
       "    </tr>\n",
       "    <tr>\n",
       "      <th>1</th>\n",
       "      <td>1</td>\n",
       "      <td>CASH_OUT</td>\n",
       "      <td>181.00</td>\n",
       "      <td>C840083671</td>\n",
       "      <td>181.00</td>\n",
       "      <td>0.00</td>\n",
       "      <td>C38997010</td>\n",
       "      <td>21182.00</td>\n",
       "      <td>0.00</td>\n",
       "      <td>1</td>\n",
       "      <td>0</td>\n",
       "    </tr>\n",
       "  </tbody>\n",
       "</table>\n",
       "</div>"
      ],
      "text/plain": [
       "   step transaction_type  amount     nameOrig  oldbalanceOrg  newbalanceOrig  \\\n",
       "0     1         TRANSFER  181.00  C1305486145         181.00            0.00   \n",
       "1     1         CASH_OUT  181.00   C840083671         181.00            0.00   \n",
       "\n",
       "     nameDest  oldbalanceDest  newbalanceDest  isFraud  isFlaggedFraud  \n",
       "0  C553264065            0.00            0.00        1               0  \n",
       "1   C38997010        21182.00            0.00        1               0  "
      ]
     },
     "execution_count": 23,
     "metadata": {},
     "output_type": "execute_result"
    }
   ],
   "source": [
    "df.head(2)"
   ]
  },
  {
   "cell_type": "markdown",
   "id": "0ed4ce96",
   "metadata": {},
   "source": [
    "#### Class imbalance "
   ]
  },
  {
   "cell_type": "code",
   "execution_count": 24,
   "id": "a13ffd0b",
   "metadata": {
    "execution": {
     "iopub.execute_input": "2025-01-13T10:41:10.590738Z",
     "iopub.status.busy": "2025-01-13T10:41:10.590394Z",
     "iopub.status.idle": "2025-01-13T10:41:10.656540Z",
     "shell.execute_reply": "2025-01-13T10:41:10.654574Z",
     "shell.execute_reply.started": "2025-01-13T10:41:10.590699Z"
    }
   },
   "outputs": [
    {
     "data": {
      "text/plain": [
       "isFraud\n",
       "0    200000\n",
       "1      8213\n",
       "Name: count, dtype: int64"
      ]
     },
     "execution_count": 24,
     "metadata": {},
     "output_type": "execute_result"
    }
   ],
   "source": [
    "df['isFraud'].value_counts()\n",
    "\n",
    "# We have class imbalance in the Fraudulent(1) transactions."
   ]
  },
  {
   "cell_type": "code",
   "execution_count": 25,
   "id": "5000ef80",
   "metadata": {
    "execution": {
     "iopub.execute_input": "2025-01-13T10:41:10.659936Z",
     "iopub.status.busy": "2025-01-13T10:41:10.659411Z",
     "iopub.status.idle": "2025-01-13T10:41:10.672313Z",
     "shell.execute_reply": "2025-01-13T10:41:10.670918Z",
     "shell.execute_reply.started": "2025-01-13T10:41:10.659898Z"
    }
   },
   "outputs": [
    {
     "name": "stdout",
     "output_type": "stream",
     "text": [
      "column => transaction_type = ['TRANSFER' 'CASH_OUT' 'PAYMENT' 'DEBIT' 'CASH_IN']\n",
      "column => isFraud = [1 0]\n",
      "column => isFlaggedFraud = [0 1]\n"
     ]
    }
   ],
   "source": [
    "cat_column = ['transaction_type','isFraud','isFlaggedFraud']\n",
    "\n",
    "for col in cat_column:\n",
    "    print(f\"column => {col} = {df[col].unique()}\")"
   ]
  },
  {
   "cell_type": "markdown",
   "id": "77118319",
   "metadata": {},
   "source": [
    "#### Features:"
   ]
  },
  {
   "cell_type": "raw",
   "id": "bc887af9",
   "metadata": {},
   "source": [
    "Transaction_types:\n",
    "\n",
    "1.PAYMENT  :  Transactions where money is paid from one account to a merchant or service provider (e.g., bill payments)\n",
    "2.Transfer :  Transactions where funds are transferred directly from one account to another.\n",
    "3.CASH_OUT :  Transactions where money is withdrawn from an account, often to cash. (Sender: The entity initiating the                         withdrawal, receiver: the money is withdrawn by the sender themselves (e.g., from their account at an ATM )\n",
    "4.CASH_IN  :  Transactions where money is deposited or credited to an account. (Sender: Typically the entity depositing the                   money into another account, Receiver: The account that receives the deposit ).              \n",
    "5.DEBIT    :  Transactions that involve the direct debit of funds from an account, often linked to specific pre-authorized\n",
    "              payments.( subscriptions/bill payments ). Money moves from the sender’s account to the receiver’s account."
   ]
  },
  {
   "cell_type": "markdown",
   "id": "44894fe4",
   "metadata": {},
   "source": [
    "## Data Cleaning"
   ]
  },
  {
   "cell_type": "code",
   "execution_count": 26,
   "id": "740f3f41",
   "metadata": {
    "execution": {
     "iopub.execute_input": "2025-01-13T10:41:10.673925Z",
     "iopub.status.busy": "2025-01-13T10:41:10.673528Z",
     "iopub.status.idle": "2025-01-13T10:41:10.690899Z",
     "shell.execute_reply": "2025-01-13T10:41:10.689503Z",
     "shell.execute_reply.started": "2025-01-13T10:41:10.673892Z"
    }
   },
   "outputs": [
    {
     "name": "stdout",
     "output_type": "stream",
     "text": [
      "Checking for NA Values\n",
      "step                0\n",
      "transaction_type    0\n",
      "amount              0\n",
      "nameOrig            0\n",
      "oldbalanceOrg       0\n",
      "newbalanceOrig      0\n",
      "nameDest            0\n",
      "oldbalanceDest      0\n",
      "newbalanceDest      0\n",
      "isFraud             0\n",
      "isFlaggedFraud      0\n",
      "dtype: int64\n"
     ]
    }
   ],
   "source": [
    "print(\"Checking for NA Values\")\n",
    "\n",
    "print(df.isna().sum())"
   ]
  },
  {
   "cell_type": "code",
   "execution_count": 27,
   "id": "fe6399de",
   "metadata": {
    "execution": {
     "iopub.execute_input": "2025-01-13T10:41:10.692649Z",
     "iopub.status.busy": "2025-01-13T10:41:10.692199Z",
     "iopub.status.idle": "2025-01-13T10:41:10.712154Z",
     "shell.execute_reply": "2025-01-13T10:41:10.710675Z",
     "shell.execute_reply.started": "2025-01-13T10:41:10.692608Z"
    }
   },
   "outputs": [
    {
     "name": "stdout",
     "output_type": "stream",
     "text": [
      "Checking for Duplicates\n",
      "0\n"
     ]
    }
   ],
   "source": [
    "print(\"Checking for Duplicates\")\n",
    "\n",
    "print(df.duplicated().sum())"
   ]
  },
  {
   "cell_type": "markdown",
   "id": "50a08a74",
   "metadata": {},
   "source": [
    "#### Box plots to visualize outliers"
   ]
  },
  {
   "cell_type": "code",
   "execution_count": 28,
   "id": "61400bcb",
   "metadata": {
    "execution": {
     "iopub.execute_input": "2025-01-13T10:41:10.714211Z",
     "iopub.status.busy": "2025-01-13T10:41:10.713705Z",
     "iopub.status.idle": "2025-01-13T10:41:10.733050Z",
     "shell.execute_reply": "2025-01-13T10:41:10.731662Z",
     "shell.execute_reply.started": "2025-01-13T10:41:10.714167Z"
    }
   },
   "outputs": [
    {
     "data": {
      "text/plain": [
       "Index(['step', 'transaction_type', 'amount', 'nameOrig', 'oldbalanceOrg',\n",
       "       'newbalanceOrig', 'nameDest', 'oldbalanceDest', 'newbalanceDest',\n",
       "       'isFraud', 'isFlaggedFraud'],\n",
       "      dtype='object')"
      ]
     },
     "execution_count": 28,
     "metadata": {},
     "output_type": "execute_result"
    }
   ],
   "source": [
    "df.columns"
   ]
  },
  {
   "cell_type": "code",
   "execution_count": 29,
   "id": "ff2fb76b",
   "metadata": {
    "execution": {
     "iopub.execute_input": "2025-01-13T10:41:10.734951Z",
     "iopub.status.busy": "2025-01-13T10:41:10.734361Z",
     "iopub.status.idle": "2025-01-13T10:41:11.014232Z",
     "shell.execute_reply": "2025-01-13T10:41:11.012945Z",
     "shell.execute_reply.started": "2025-01-13T10:41:10.734905Z"
    }
   },
   "outputs": [
    {
     "data": {
      "text/plain": [
       "Index(['step', 'amount', 'oldbalanceOrg', 'newbalanceOrig', 'oldbalanceDest',\n",
       "       'newbalanceDest', 'isFraud', 'isFlaggedFraud'],\n",
       "      dtype='object')"
      ]
     },
     "execution_count": 29,
     "metadata": {},
     "output_type": "execute_result"
    }
   ],
   "source": [
    "numeric_columns = df.select_dtypes(['int64','float64']).columns\n",
    "numeric_columns"
   ]
  },
  {
   "cell_type": "code",
   "execution_count": 30,
   "id": "e0dc16f7",
   "metadata": {
    "execution": {
     "iopub.execute_input": "2025-01-13T10:41:11.015795Z",
     "iopub.status.busy": "2025-01-13T10:41:11.015467Z",
     "iopub.status.idle": "2025-01-13T10:41:11.021094Z",
     "shell.execute_reply": "2025-01-13T10:41:11.019404Z",
     "shell.execute_reply.started": "2025-01-13T10:41:11.015760Z"
    }
   },
   "outputs": [],
   "source": [
    "# fig, axes = plt.subplots(1, 3, figsize=(15, 5))\n",
    "\n",
    "# # Loop through numeric columns and plot boxplots on the same line\n",
    "# for i, col in enumerate(numeric_columns):\n",
    "#     sns.boxplot(data=df, x=df[col], ax=axes[i])\n",
    "#     axes[i].set_title(col)  # Optionally set titles for each subplot\n",
    "\n",
    "# plt.tight_layout()  # Adjust spacing\n",
    "# plt.show()"
   ]
  },
  {
   "cell_type": "markdown",
   "id": "3bdd6885",
   "metadata": {},
   "source": [
    "#### Histograms for visualizing the distribution of data"
   ]
  },
  {
   "cell_type": "code",
   "execution_count": 31,
   "id": "3df73f6b",
   "metadata": {
    "execution": {
     "iopub.execute_input": "2025-01-13T10:41:11.022938Z",
     "iopub.status.busy": "2025-01-13T10:41:11.022529Z",
     "iopub.status.idle": "2025-01-13T10:41:11.043380Z",
     "shell.execute_reply": "2025-01-13T10:41:11.041707Z",
     "shell.execute_reply.started": "2025-01-13T10:41:11.022907Z"
    }
   },
   "outputs": [
    {
     "data": {
      "image/png": "[encoded data removed]",
      "text/plain": [
       "<Figure size 900x200 with 1 Axes>"
      ]
     },
     "metadata": {},
     "output_type": "display_data"
    },
    {
     "data": {
      "image/png": "[encoded data removed]",
      "text/plain": [
       "<Figure size 900x200 with 1 Axes>"
      ]
     },
     "metadata": {},
     "output_type": "display_data"
    },
    {
     "data": {
      "image/png": "[encoded data removed]",
      "text/plain": [
       "<Figure size 900x200 with 1 Axes>"
      ]
     },
     "metadata": {},
     "output_type": "display_data"
    },
    {
     "data": {
      "image/png": "[encoded data removed]",
      "text/plain": [
       "<Figure size 900x200 with 1 Axes>"
      ]
     },
     "metadata": {},
     "output_type": "display_data"
    },
    {
     "data": {
      "image/png": "[encoded data removed]",
      "text/plain": [
       "<Figure size 900x200 with 1 Axes>"
      ]
     },
     "metadata": {},
     "output_type": "display_data"
    },
    {
     "data": {
      "image/png": "[encoded data removed]",
      "text/plain": [
       "<Figure size 900x200 with 1 Axes>"
      ]
     },
     "metadata": {},
     "output_type": "display_data"
    },
    {
     "data": {
      "image/png": "[encoded data removed]",
      "text/plain": [
       "<Figure size 900x200 with 1 Axes>"
      ]
     },
     "metadata": {},
     "output_type": "display_data"
    },
    {
     "data": {
      "image/png": "[encoded data removed]",
      "text/plain": [
       "<Figure size 900x200 with 1 Axes>"
      ]
     },
     "metadata": {},
     "output_type": "display_data"
    }
   ],
   "source": [
    "for col in numeric_columns:\n",
    "    plt.figure(figsize=(9,2))\n",
    "    sns.histplot(data=df,x=df[col],bins=2)\n",
    "    plt.show()"
   ]
  },
  {
   "cell_type": "code",
   "execution_count": 32,
   "id": "00a58601",
   "metadata": {
    "execution": {
     "iopub.execute_input": "2025-01-13T10:41:11.066206Z",
     "iopub.status.busy": "2025-01-13T10:41:11.065887Z",
     "iopub.status.idle": "2025-01-13T10:41:11.084535Z",
     "shell.execute_reply": "2025-01-13T10:41:11.083201Z",
     "shell.execute_reply.started": "2025-01-13T10:41:11.066179Z"
    }
   },
   "outputs": [
    {
     "data": {
      "text/html": [
       "<div>\n",
       "<style scoped>\n",
       "    .dataframe tbody tr th:only-of-type {\n",
       "        vertical-align: middle;\n",
       "    }\n",
       "\n",
       "    .dataframe tbody tr th {\n",
       "        vertical-align: top;\n",
       "    }\n",
       "\n",
       "    .dataframe thead th {\n",
       "        text-align: right;\n",
       "    }\n",
       "</style>\n",
       "<table border=\"1\" class=\"dataframe\">\n",
       "  <thead>\n",
       "    <tr style=\"text-align: right;\">\n",
       "      <th></th>\n",
       "      <th>step</th>\n",
       "      <th>oldbalanceOrg</th>\n",
       "      <th>newbalanceOrig</th>\n",
       "    </tr>\n",
       "  </thead>\n",
       "  <tbody>\n",
       "    <tr>\n",
       "      <th>count</th>\n",
       "      <td>208213.00</td>\n",
       "      <td>208213.00</td>\n",
       "      <td>208213.00</td>\n",
       "    </tr>\n",
       "    <tr>\n",
       "      <th>mean</th>\n",
       "      <td>24.21</td>\n",
       "      <td>912345.38</td>\n",
       "      <td>872604.29</td>\n",
       "    </tr>\n",
       "    <tr>\n",
       "      <th>std</th>\n",
       "      <td>81.95</td>\n",
       "      <td>2804991.09</td>\n",
       "      <td>2778976.37</td>\n",
       "    </tr>\n",
       "    <tr>\n",
       "      <th>min</th>\n",
       "      <td>1.00</td>\n",
       "      <td>0.00</td>\n",
       "      <td>0.00</td>\n",
       "    </tr>\n",
       "    <tr>\n",
       "      <th>25%</th>\n",
       "      <td>9.00</td>\n",
       "      <td>0.00</td>\n",
       "      <td>0.00</td>\n",
       "    </tr>\n",
       "    <tr>\n",
       "      <th>50%</th>\n",
       "      <td>10.00</td>\n",
       "      <td>20894.00</td>\n",
       "      <td>0.00</td>\n",
       "    </tr>\n",
       "    <tr>\n",
       "      <th>75%</th>\n",
       "      <td>12.00</td>\n",
       "      <td>227866.00</td>\n",
       "      <td>204284.76</td>\n",
       "    </tr>\n",
       "    <tr>\n",
       "      <th>max</th>\n",
       "      <td>743.00</td>\n",
       "      <td>59585040.37</td>\n",
       "      <td>49585040.37</td>\n",
       "    </tr>\n",
       "  </tbody>\n",
       "</table>\n",
       "</div>"
      ],
      "text/plain": [
       "           step  oldbalanceOrg  newbalanceOrig\n",
       "count 208213.00      208213.00       208213.00\n",
       "mean      24.21      912345.38       872604.29\n",
       "std       81.95     2804991.09      2778976.37\n",
       "min        1.00           0.00            0.00\n",
       "25%        9.00           0.00            0.00\n",
       "50%       10.00       20894.00            0.00\n",
       "75%       12.00      227866.00       204284.76\n",
       "max      743.00    59585040.37     49585040.37"
      ]
     },
     "execution_count": 32,
     "metadata": {},
     "output_type": "execute_result"
    }
   ],
   "source": [
    "df[['step','oldbalanceOrg','newbalanceOrig']].describe()"
   ]
  },
  {
   "cell_type": "code",
   "execution_count": 33,
   "id": "9833a480",
   "metadata": {
    "execution": {
     "iopub.execute_input": "2025-01-13T10:41:11.086144Z",
     "iopub.status.busy": "2025-01-13T10:41:11.085774Z",
     "iopub.status.idle": "2025-01-13T10:41:11.101976Z",
     "shell.execute_reply": "2025-01-13T10:41:11.100274Z",
     "shell.execute_reply.started": "2025-01-13T10:41:11.086102Z"
    }
   },
   "outputs": [
    {
     "data": {
      "text/html": [
       "<div>\n",
       "<style scoped>\n",
       "    .dataframe tbody tr th:only-of-type {\n",
       "        vertical-align: middle;\n",
       "    }\n",
       "\n",
       "    .dataframe tbody tr th {\n",
       "        vertical-align: top;\n",
       "    }\n",
       "\n",
       "    .dataframe thead th {\n",
       "        text-align: right;\n",
       "    }\n",
       "</style>\n",
       "<table border=\"1\" class=\"dataframe\">\n",
       "  <thead>\n",
       "    <tr style=\"text-align: right;\">\n",
       "      <th></th>\n",
       "      <th>oldbalanceDest</th>\n",
       "      <th>newbalanceDest</th>\n",
       "    </tr>\n",
       "  </thead>\n",
       "  <tbody>\n",
       "    <tr>\n",
       "      <th>count</th>\n",
       "      <td>208213.00</td>\n",
       "      <td>208213.00</td>\n",
       "    </tr>\n",
       "    <tr>\n",
       "      <th>mean</th>\n",
       "      <td>925948.79</td>\n",
       "      <td>1195510.94</td>\n",
       "    </tr>\n",
       "    <tr>\n",
       "      <th>std</th>\n",
       "      <td>2419683.44</td>\n",
       "      <td>2715619.94</td>\n",
       "    </tr>\n",
       "    <tr>\n",
       "      <th>min</th>\n",
       "      <td>0.00</td>\n",
       "      <td>0.00</td>\n",
       "    </tr>\n",
       "    <tr>\n",
       "      <th>25%</th>\n",
       "      <td>0.00</td>\n",
       "      <td>0.00</td>\n",
       "    </tr>\n",
       "    <tr>\n",
       "      <th>50%</th>\n",
       "      <td>40958.30</td>\n",
       "      <td>128019.46</td>\n",
       "    </tr>\n",
       "    <tr>\n",
       "      <th>75%</th>\n",
       "      <td>738531.50</td>\n",
       "      <td>1186317.31</td>\n",
       "    </tr>\n",
       "    <tr>\n",
       "      <th>max</th>\n",
       "      <td>236230516.82</td>\n",
       "      <td>236726494.66</td>\n",
       "    </tr>\n",
       "  </tbody>\n",
       "</table>\n",
       "</div>"
      ],
      "text/plain": [
       "       oldbalanceDest  newbalanceDest\n",
       "count       208213.00       208213.00\n",
       "mean        925948.79      1195510.94\n",
       "std        2419683.44      2715619.94\n",
       "min              0.00            0.00\n",
       "25%              0.00            0.00\n",
       "50%          40958.30       128019.46\n",
       "75%         738531.50      1186317.31\n",
       "max      236230516.82    236726494.66"
      ]
     },
     "execution_count": 33,
     "metadata": {},
     "output_type": "execute_result"
    }
   ],
   "source": [
    "df[['oldbalanceDest','newbalanceDest']].describe()"
   ]
  },
  {
   "cell_type": "markdown",
   "id": "75461f19",
   "metadata": {},
   "source": [
    "### Analyze categorical features"
   ]
  },
  {
   "cell_type": "code",
   "execution_count": 34,
   "id": "91fd7594",
   "metadata": {
    "execution": {
     "iopub.execute_input": "2025-01-13T10:41:11.103938Z",
     "iopub.status.busy": "2025-01-13T10:41:11.103440Z",
     "iopub.status.idle": "2025-01-13T10:41:11.590756Z",
     "shell.execute_reply": "2025-01-13T10:41:11.589530Z",
     "shell.execute_reply.started": "2025-01-13T10:41:11.103893Z"
    }
   },
   "outputs": [
    {
     "data": {
      "text/plain": [
       "Index(['transaction_type', 'nameOrig', 'nameDest'], dtype='object')"
      ]
     },
     "execution_count": 34,
     "metadata": {},
     "output_type": "execute_result"
    }
   ],
   "source": [
    "df.select_dtypes(exclude=['float64','int64']).columns"
   ]
  },
  {
   "cell_type": "code",
   "execution_count": 35,
   "id": "5f00bf0d",
   "metadata": {
    "execution": {
     "iopub.execute_input": "2025-01-13T10:41:11.592659Z",
     "iopub.status.busy": "2025-01-13T10:41:11.592235Z",
     "iopub.status.idle": "2025-01-13T10:41:25.937727Z",
     "shell.execute_reply": "2025-01-13T10:41:25.936653Z",
     "shell.execute_reply.started": "2025-01-13T10:41:11.592613Z"
    },
    "scrolled": true
   },
   "outputs": [
    {
     "data": {
      "text/html": [
       "<div>\n",
       "<style scoped>\n",
       "    .dataframe tbody tr th:only-of-type {\n",
       "        vertical-align: middle;\n",
       "    }\n",
       "\n",
       "    .dataframe tbody tr th {\n",
       "        vertical-align: top;\n",
       "    }\n",
       "\n",
       "    .dataframe thead th {\n",
       "        text-align: right;\n",
       "    }\n",
       "</style>\n",
       "<table border=\"1\" class=\"dataframe\">\n",
       "  <thead>\n",
       "    <tr style=\"text-align: right;\">\n",
       "      <th></th>\n",
       "      <th>nameOrig</th>\n",
       "      <th>nameDest</th>\n",
       "    </tr>\n",
       "  </thead>\n",
       "  <tbody>\n",
       "    <tr>\n",
       "      <th>count</th>\n",
       "      <td>208213</td>\n",
       "      <td>208213</td>\n",
       "    </tr>\n",
       "    <tr>\n",
       "      <th>unique</th>\n",
       "      <td>208208</td>\n",
       "      <td>102590</td>\n",
       "    </tr>\n",
       "    <tr>\n",
       "      <th>top</th>\n",
       "      <td>C44568807</td>\n",
       "      <td>C985934102</td>\n",
       "    </tr>\n",
       "    <tr>\n",
       "      <th>freq</th>\n",
       "      <td>2</td>\n",
       "      <td>84</td>\n",
       "    </tr>\n",
       "  </tbody>\n",
       "</table>\n",
       "</div>"
      ],
      "text/plain": [
       "         nameOrig    nameDest\n",
       "count      208213      208213\n",
       "unique     208208      102590\n",
       "top     C44568807  C985934102\n",
       "freq            2          84"
      ]
     },
     "execution_count": 35,
     "metadata": {},
     "output_type": "execute_result"
    }
   ],
   "source": [
    "# Unique Identifers:\n",
    "df[['nameOrig','nameDest']].describe()"
   ]
  },
  {
   "cell_type": "code",
   "execution_count": 36,
   "id": "be65eda5",
   "metadata": {
    "execution": {
     "iopub.execute_input": "2025-01-13T10:41:25.939546Z",
     "iopub.status.busy": "2025-01-13T10:41:25.939242Z",
     "iopub.status.idle": "2025-01-13T10:41:26.312249Z",
     "shell.execute_reply": "2025-01-13T10:41:26.311136Z",
     "shell.execute_reply.started": "2025-01-13T10:41:25.939520Z"
    }
   },
   "outputs": [
    {
     "data": {
      "text/plain": [
       "'transaction_type'"
      ]
     },
     "execution_count": 36,
     "metadata": {},
     "output_type": "execute_result"
    }
   ],
   "source": [
    "categorical_columns = df.select_dtypes(exclude=['float64','int64']).columns[0] # We will only use transaction type column as categorical because the other columns are unique identifiers.\n",
    "categorical_columns"
   ]
  },
  {
   "cell_type": "code",
   "execution_count": 37,
   "id": "c69bf73b",
   "metadata": {
    "execution": {
     "iopub.execute_input": "2025-01-13T10:41:26.313899Z",
     "iopub.status.busy": "2025-01-13T10:41:26.313543Z",
     "iopub.status.idle": "2025-01-13T10:41:26.332565Z",
     "shell.execute_reply": "2025-01-13T10:41:26.331199Z",
     "shell.execute_reply.started": "2025-01-13T10:41:26.313873Z"
    }
   },
   "outputs": [
    {
     "data": {
      "text/plain": [
       "Index(['step', 'amount', 'oldbalanceOrg', 'newbalanceOrig', 'oldbalanceDest',\n",
       "       'newbalanceDest', 'isFraud', 'isFlaggedFraud'],\n",
       "      dtype='object')"
      ]
     },
     "execution_count": 37,
     "metadata": {},
     "output_type": "execute_result"
    }
   ],
   "source": [
    "numeric_columns"
   ]
  },
  {
   "cell_type": "markdown",
   "id": "e35d8626",
   "metadata": {},
   "source": [
    "## Exploratory Data Analysis"
   ]
  },
  {
   "cell_type": "code",
   "execution_count": 38,
   "id": "b559c8b5",
   "metadata": {
    "execution": {
     "iopub.execute_input": "2025-01-13T10:41:26.339486Z",
     "iopub.status.busy": "2025-01-13T10:41:26.339080Z",
     "iopub.status.idle": "2025-01-13T10:41:26.358451Z",
     "shell.execute_reply": "2025-01-13T10:41:26.357009Z",
     "shell.execute_reply.started": "2025-01-13T10:41:26.339445Z"
    }
   },
   "outputs": [
    {
     "data": {
      "text/html": [
       "<div>\n",
       "<style scoped>\n",
       "    .dataframe tbody tr th:only-of-type {\n",
       "        vertical-align: middle;\n",
       "    }\n",
       "\n",
       "    .dataframe tbody tr th {\n",
       "        vertical-align: top;\n",
       "    }\n",
       "\n",
       "    .dataframe thead th {\n",
       "        text-align: right;\n",
       "    }\n",
       "</style>\n",
       "<table border=\"1\" class=\"dataframe\">\n",
       "  <thead>\n",
       "    <tr style=\"text-align: right;\">\n",
       "      <th></th>\n",
       "      <th>step</th>\n",
       "      <th>transaction_type</th>\n",
       "      <th>amount</th>\n",
       "      <th>nameOrig</th>\n",
       "      <th>oldbalanceOrg</th>\n",
       "      <th>newbalanceOrig</th>\n",
       "      <th>nameDest</th>\n",
       "      <th>oldbalanceDest</th>\n",
       "      <th>newbalanceDest</th>\n",
       "      <th>isFraud</th>\n",
       "      <th>isFlaggedFraud</th>\n",
       "    </tr>\n",
       "  </thead>\n",
       "  <tbody>\n",
       "    <tr>\n",
       "      <th>0</th>\n",
       "      <td>1</td>\n",
       "      <td>TRANSFER</td>\n",
       "      <td>181.00</td>\n",
       "      <td>C1305486145</td>\n",
       "      <td>181.00</td>\n",
       "      <td>0.00</td>\n",
       "      <td>C553264065</td>\n",
       "      <td>0.00</td>\n",
       "      <td>0.00</td>\n",
       "      <td>1</td>\n",
       "      <td>0</td>\n",
       "    </tr>\n",
       "  </tbody>\n",
       "</table>\n",
       "</div>"
      ],
      "text/plain": [
       "   step transaction_type  amount     nameOrig  oldbalanceOrg  newbalanceOrig  \\\n",
       "0     1         TRANSFER  181.00  C1305486145         181.00            0.00   \n",
       "\n",
       "     nameDest  oldbalanceDest  newbalanceDest  isFraud  isFlaggedFraud  \n",
       "0  C553264065            0.00            0.00        1               0  "
      ]
     },
     "execution_count": 38,
     "metadata": {},
     "output_type": "execute_result"
    }
   ],
   "source": [
    "df.head(1)"
   ]
  },
  {
   "cell_type": "code",
   "execution_count": 39,
   "id": "48951482",
   "metadata": {
    "execution": {
     "iopub.execute_input": "2025-01-13T10:41:26.361773Z",
     "iopub.status.busy": "2025-01-13T10:41:26.361326Z",
     "iopub.status.idle": "2025-01-13T10:41:26.376965Z",
     "shell.execute_reply": "2025-01-13T10:41:26.375440Z",
     "shell.execute_reply.started": "2025-01-13T10:41:26.361734Z"
    }
   },
   "outputs": [
    {
     "data": {
      "text/plain": [
       "Index(['step', 'amount', 'oldbalanceOrg', 'newbalanceOrig', 'oldbalanceDest',\n",
       "       'newbalanceDest', 'isFraud', 'isFlaggedFraud'],\n",
       "      dtype='object')"
      ]
     },
     "execution_count": 39,
     "metadata": {},
     "output_type": "execute_result"
    }
   ],
   "source": [
    "numeric_columns"
   ]
  },
  {
   "cell_type": "code",
   "execution_count": 40,
   "id": "64548158",
   "metadata": {
    "execution": {
     "iopub.execute_input": "2025-01-13T10:41:26.379288Z",
     "iopub.status.busy": "2025-01-13T10:41:26.378710Z",
     "iopub.status.idle": "2025-01-13T10:41:26.395137Z",
     "shell.execute_reply": "2025-01-13T10:41:26.393795Z",
     "shell.execute_reply.started": "2025-01-13T10:41:26.379179Z"
    }
   },
   "outputs": [
    {
     "data": {
      "text/plain": [
       "'transaction_type'"
      ]
     },
     "execution_count": 40,
     "metadata": {},
     "output_type": "execute_result"
    }
   ],
   "source": [
    "categorical_columns"
   ]
  },
  {
   "cell_type": "code",
   "execution_count": 41,
   "id": "5a834432",
   "metadata": {
    "execution": {
     "iopub.execute_input": "2025-01-13T10:41:26.413384Z",
     "iopub.status.busy": "2025-01-13T10:41:26.412939Z",
     "iopub.status.idle": "2025-01-13T10:41:26.430589Z",
     "shell.execute_reply": "2025-01-13T10:41:26.429221Z",
     "shell.execute_reply.started": "2025-01-13T10:41:26.413355Z"
    }
   },
   "outputs": [
    {
     "data": {
      "image/png": "[encoded data removed]",
      "text/plain": [
       "<Figure size 640x480 with 1 Axes>"
      ]
     },
     "metadata": {},
     "output_type": "display_data"
    }
   ],
   "source": [
    "transaction_count = df.groupby('transaction_type')['isFraud'].count().reset_index(name='no of transactions') \\\n",
    "   .sort_values(by='no of transactions',ascending=False)\n",
    "\n",
    "sns.barplot(data=transaction_count,x='transaction_type',y='no of transactions',)\n",
    "plt.xlabel(\" No of transactions \")\n",
    "plt.title(\" Count of Transactions Per Transaction Type \")\n",
    "plt.ylabel(\" Transaction Type\")\n",
    "plt.show()"
   ]
  },
  {
   "cell_type": "markdown",
   "id": "b659a9e0",
   "metadata": {},
   "source": [
    "### Insights\n",
    "\n",
    "1. Majority of the Transactions were done by withdrawal of money (CASH OUT) from account\n",
    "2. Very less transactions are directly (DEBIT) made from the account"
   ]
  },
  {
   "cell_type": "code",
   "execution_count": 42,
   "id": "c0c90dd1",
   "metadata": {
    "execution": {
     "iopub.execute_input": "2025-01-13T10:41:26.432448Z",
     "iopub.status.busy": "2025-01-13T10:41:26.431969Z",
     "iopub.status.idle": "2025-01-13T10:41:26.450801Z",
     "shell.execute_reply": "2025-01-13T10:41:26.449428Z",
     "shell.execute_reply.started": "2025-01-13T10:41:26.432416Z"
    }
   },
   "outputs": [
    {
     "data": {
      "image/png": "[encoded data removed]",
      "text/plain": [
       "<Figure size 640x480 with 1 Axes>"
      ]
     },
     "metadata": {},
     "output_type": "display_data"
    }
   ],
   "source": [
    "fraud_count_df = df.groupby('transaction_type')['isFraud'].sum().reset_index() \\\n",
    "     .sort_values(by='isFraud',ascending=False) \n",
    "\n",
    "sns.barplot(data=fraud_count_df,x='transaction_type',y='isFraud')\n",
    "plt.title(\"Count of Fraudulent Transactions per Transaction Type\")\n",
    "plt.xlabel(\"No of Fraud Transactions\")\n",
    "plt.ylabel(\"Transaction_type\")\n",
    "plt.show()"
   ]
  },
  {
   "cell_type": "markdown",
   "id": "83e4bcb1",
   "metadata": {},
   "source": [
    "### Insights\n",
    "\n",
    "1. Majortiy of the Fraudulent transaction's were either by (CASH OUT) withdrawal of money from the account or by Transfer of funds between two accounts (TRANSFER)."
   ]
  },
  {
   "cell_type": "code",
   "execution_count": 43,
   "id": "0666735c",
   "metadata": {
    "execution": {
     "iopub.execute_input": "2025-01-13T10:41:26.452571Z",
     "iopub.status.busy": "2025-01-13T10:41:26.452156Z",
     "iopub.status.idle": "2025-01-13T10:41:26.472417Z",
     "shell.execute_reply": "2025-01-13T10:41:26.471201Z",
     "shell.execute_reply.started": "2025-01-13T10:41:26.452524Z"
    }
   },
   "outputs": [
    {
     "data": {
      "text/plain": [
       "Index(['step', 'amount', 'oldbalanceOrg', 'newbalanceOrig', 'oldbalanceDest',\n",
       "       'newbalanceDest', 'isFraud', 'isFlaggedFraud'],\n",
       "      dtype='object')"
      ]
     },
     "execution_count": 43,
     "metadata": {},
     "output_type": "execute_result"
    }
   ],
   "source": [
    "numeric_columns"
   ]
  },
  {
   "cell_type": "code",
   "execution_count": 44,
   "id": "27e8aea7",
   "metadata": {
    "execution": {
     "iopub.execute_input": "2025-01-13T10:41:26.474375Z",
     "iopub.status.busy": "2025-01-13T10:41:26.473929Z",
     "iopub.status.idle": "2025-01-13T10:41:26.489786Z",
     "shell.execute_reply": "2025-01-13T10:41:26.488287Z",
     "shell.execute_reply.started": "2025-01-13T10:41:26.474332Z"
    }
   },
   "outputs": [
    {
     "data": {
      "image/png": "[encoded data removed]",
      "text/plain": [
       "<Figure size 800x400 with 1 Axes>"
      ]
     },
     "metadata": {},
     "output_type": "display_data"
    }
   ],
   "source": [
    "plt.figure(figsize=(8, 4))\n",
    "sns.kdeplot(np.log1p(df['amount'][df['isFraud'] == 0]), fill=True, label='default = 0')\n",
    "sns.kdeplot(np.log1p(df['amount'][df['isFraud'] == 1]), fill=True, label='default = 1')\n",
    "plt.title(\"Amount KDE Plot with isFraud as Hue (Log Scale)\")\n",
    "plt.xlabel(\"Log(Amount)\")\n",
    "plt.legend()\n",
    "plt.show()"
   ]
  },
  {
   "cell_type": "markdown",
   "id": "634c365b",
   "metadata": {},
   "source": [
    "#### Insights:\n",
    "\n",
    "1. We can see that Transactions with higher amount have chances of beign FRAUDULENT.\n",
    "2. Transactions with smaller amount tend to being NON-FRAUDULENT"
   ]
  },
  {
   "cell_type": "code",
   "execution_count": 45,
   "id": "398deedb",
   "metadata": {
    "execution": {
     "iopub.execute_input": "2025-01-13T10:41:26.491521Z",
     "iopub.status.busy": "2025-01-13T10:41:26.491113Z",
     "iopub.status.idle": "2025-01-13T10:41:26.517803Z",
     "shell.execute_reply": "2025-01-13T10:41:26.516542Z",
     "shell.execute_reply.started": "2025-01-13T10:41:26.491476Z"
    }
   },
   "outputs": [
    {
     "data": {
      "text/plain": [
       "Index(['step', 'amount', 'oldbalanceOrg', 'newbalanceOrig', 'oldbalanceDest',\n",
       "       'newbalanceDest', 'isFraud', 'isFlaggedFraud'],\n",
       "      dtype='object')"
      ]
     },
     "execution_count": 45,
     "metadata": {},
     "output_type": "execute_result"
    }
   ],
   "source": [
    "numeric_columns"
   ]
  },
  {
   "cell_type": "code",
   "execution_count": 46,
   "id": "13c198ba",
   "metadata": {
    "execution": {
     "iopub.execute_input": "2025-01-13T10:41:26.519147Z",
     "iopub.status.busy": "2025-01-13T10:41:26.518796Z",
     "iopub.status.idle": "2025-01-13T10:41:26.537018Z",
     "shell.execute_reply": "2025-01-13T10:41:26.535735Z",
     "shell.execute_reply.started": "2025-01-13T10:41:26.519103Z"
    }
   },
   "outputs": [
    {
     "data": {
      "image/png": "[encoded data removed]",
      "text/plain": [
       "<Figure size 1000x400 with 2 Axes>"
      ]
     },
     "metadata": {},
     "output_type": "display_data"
    }
   ],
   "source": [
    "cm = df[numeric_columns].corr()\n",
    "\n",
    "plt.figure(figsize=(10,4))\n",
    "sns.heatmap(cm,annot=True,fmt=\".2f\",cmap='coolwarm')\n",
    "plt.title(\"Co-relation matrix\")\n",
    "plt.show()"
   ]
  },
  {
   "cell_type": "markdown",
   "id": "57100474",
   "metadata": {},
   "source": [
    "### Insights from EDA.\n",
    "\n",
    "1. Most of the transactions took place by CASH OUT , PAYMENT and CASH IN\n",
    "2. Majority of the FRAUDULENT Transactions took place by CASH OUT or TRANSFER Transaction Type\n",
    "3. Higher the Amount of Transaction, Higher the Risk of it being Fraud.\n"
   ]
  },
  {
   "cell_type": "code",
   "execution_count": null,
   "id": "70c087cc",
   "metadata": {},
   "outputs": [],
   "source": []
  },
  {
   "cell_type": "markdown",
   "id": "d0f926fe",
   "metadata": {},
   "source": [
    "## Feature Engineering , Feature Selection"
   ]
  },
  {
   "cell_type": "code",
   "execution_count": 47,
   "id": "a3866e7a",
   "metadata": {
    "execution": {
     "iopub.execute_input": "2025-01-13T10:41:26.538862Z",
     "iopub.status.busy": "2025-01-13T10:41:26.538483Z",
     "iopub.status.idle": "2025-01-13T10:41:26.566496Z",
     "shell.execute_reply": "2025-01-13T10:41:26.565232Z",
     "shell.execute_reply.started": "2025-01-13T10:41:26.538829Z"
    }
   },
   "outputs": [
    {
     "data": {
      "text/html": [
       "<div>\n",
       "<style scoped>\n",
       "    .dataframe tbody tr th:only-of-type {\n",
       "        vertical-align: middle;\n",
       "    }\n",
       "\n",
       "    .dataframe tbody tr th {\n",
       "        vertical-align: top;\n",
       "    }\n",
       "\n",
       "    .dataframe thead th {\n",
       "        text-align: right;\n",
       "    }\n",
       "</style>\n",
       "<table border=\"1\" class=\"dataframe\">\n",
       "  <thead>\n",
       "    <tr style=\"text-align: right;\">\n",
       "      <th></th>\n",
       "      <th>step</th>\n",
       "      <th>transaction_type</th>\n",
       "      <th>amount</th>\n",
       "      <th>nameOrig</th>\n",
       "      <th>oldbalanceOrg</th>\n",
       "      <th>newbalanceOrig</th>\n",
       "      <th>nameDest</th>\n",
       "      <th>oldbalanceDest</th>\n",
       "      <th>newbalanceDest</th>\n",
       "      <th>isFraud</th>\n",
       "      <th>isFlaggedFraud</th>\n",
       "    </tr>\n",
       "  </thead>\n",
       "  <tbody>\n",
       "    <tr>\n",
       "      <th>0</th>\n",
       "      <td>1</td>\n",
       "      <td>TRANSFER</td>\n",
       "      <td>181.00</td>\n",
       "      <td>C1305486145</td>\n",
       "      <td>181.00</td>\n",
       "      <td>0.00</td>\n",
       "      <td>C553264065</td>\n",
       "      <td>0.00</td>\n",
       "      <td>0.00</td>\n",
       "      <td>1</td>\n",
       "      <td>0</td>\n",
       "    </tr>\n",
       "    <tr>\n",
       "      <th>1</th>\n",
       "      <td>1</td>\n",
       "      <td>CASH_OUT</td>\n",
       "      <td>181.00</td>\n",
       "      <td>C840083671</td>\n",
       "      <td>181.00</td>\n",
       "      <td>0.00</td>\n",
       "      <td>C38997010</td>\n",
       "      <td>21182.00</td>\n",
       "      <td>0.00</td>\n",
       "      <td>1</td>\n",
       "      <td>0</td>\n",
       "    </tr>\n",
       "  </tbody>\n",
       "</table>\n",
       "</div>"
      ],
      "text/plain": [
       "   step transaction_type  amount     nameOrig  oldbalanceOrg  newbalanceOrig  \\\n",
       "0     1         TRANSFER  181.00  C1305486145         181.00            0.00   \n",
       "1     1         CASH_OUT  181.00   C840083671         181.00            0.00   \n",
       "\n",
       "     nameDest  oldbalanceDest  newbalanceDest  isFraud  isFlaggedFraud  \n",
       "0  C553264065            0.00            0.00        1               0  \n",
       "1   C38997010        21182.00            0.00        1               0  "
      ]
     },
     "execution_count": 47,
     "metadata": {},
     "output_type": "execute_result"
    }
   ],
   "source": [
    "df.head(2)"
   ]
  },
  {
   "cell_type": "markdown",
   "id": "78c6168f",
   "metadata": {},
   "source": [
    "#### Removing columns based on Domain knowledge"
   ]
  },
  {
   "cell_type": "code",
   "execution_count": 48,
   "id": "f87183c3",
   "metadata": {
    "execution": {
     "iopub.execute_input": "2025-01-13T10:41:26.568114Z",
     "iopub.status.busy": "2025-01-13T10:41:26.567710Z",
     "iopub.status.idle": "2025-01-13T10:41:26.861341Z",
     "shell.execute_reply": "2025-01-13T10:41:26.860058Z",
     "shell.execute_reply.started": "2025-01-13T10:41:26.568049Z"
    }
   },
   "outputs": [],
   "source": [
    "df.drop(columns=['nameOrig','nameDest','isFlaggedFraud'],inplace=True)"
   ]
  },
  {
   "cell_type": "code",
   "execution_count": 49,
   "id": "d2ea12c7",
   "metadata": {
    "execution": {
     "iopub.execute_input": "2025-01-13T10:41:26.863272Z",
     "iopub.status.busy": "2025-01-13T10:41:26.862800Z",
     "iopub.status.idle": "2025-01-13T10:41:26.877031Z",
     "shell.execute_reply": "2025-01-13T10:41:26.875857Z",
     "shell.execute_reply.started": "2025-01-13T10:41:26.863228Z"
    }
   },
   "outputs": [
    {
     "data": {
      "text/html": [
       "<div>\n",
       "<style scoped>\n",
       "    .dataframe tbody tr th:only-of-type {\n",
       "        vertical-align: middle;\n",
       "    }\n",
       "\n",
       "    .dataframe tbody tr th {\n",
       "        vertical-align: top;\n",
       "    }\n",
       "\n",
       "    .dataframe thead th {\n",
       "        text-align: right;\n",
       "    }\n",
       "</style>\n",
       "<table border=\"1\" class=\"dataframe\">\n",
       "  <thead>\n",
       "    <tr style=\"text-align: right;\">\n",
       "      <th></th>\n",
       "      <th>step</th>\n",
       "      <th>transaction_type</th>\n",
       "      <th>amount</th>\n",
       "      <th>oldbalanceOrg</th>\n",
       "      <th>newbalanceOrig</th>\n",
       "      <th>oldbalanceDest</th>\n",
       "      <th>newbalanceDest</th>\n",
       "      <th>isFraud</th>\n",
       "    </tr>\n",
       "  </thead>\n",
       "  <tbody>\n",
       "    <tr>\n",
       "      <th>0</th>\n",
       "      <td>1</td>\n",
       "      <td>TRANSFER</td>\n",
       "      <td>181.00</td>\n",
       "      <td>181.00</td>\n",
       "      <td>0.00</td>\n",
       "      <td>0.00</td>\n",
       "      <td>0.00</td>\n",
       "      <td>1</td>\n",
       "    </tr>\n",
       "  </tbody>\n",
       "</table>\n",
       "</div>"
      ],
      "text/plain": [
       "   step transaction_type  amount  oldbalanceOrg  newbalanceOrig  \\\n",
       "0     1         TRANSFER  181.00         181.00            0.00   \n",
       "\n",
       "   oldbalanceDest  newbalanceDest  isFraud  \n",
       "0            0.00            0.00        1  "
      ]
     },
     "execution_count": 49,
     "metadata": {},
     "output_type": "execute_result"
    }
   ],
   "source": [
    "df.head(1)"
   ]
  },
  {
   "cell_type": "markdown",
   "id": "008ee4b6",
   "metadata": {},
   "source": [
    "#### Scaling"
   ]
  },
  {
   "cell_type": "code",
   "execution_count": 50,
   "id": "e678ae4e",
   "metadata": {
    "execution": {
     "iopub.execute_input": "2025-01-13T10:41:26.878729Z",
     "iopub.status.busy": "2025-01-13T10:41:26.878376Z",
     "iopub.status.idle": "2025-01-13T10:41:26.894951Z",
     "shell.execute_reply": "2025-01-13T10:41:26.893598Z",
     "shell.execute_reply.started": "2025-01-13T10:41:26.878691Z"
    }
   },
   "outputs": [],
   "source": [
    "# df_scaled = df.copy()"
   ]
  },
  {
   "cell_type": "code",
   "execution_count": 51,
   "id": "5e4ca90f",
   "metadata": {
    "execution": {
     "iopub.execute_input": "2025-01-13T10:41:26.896690Z",
     "iopub.status.busy": "2025-01-13T10:41:26.896349Z",
     "iopub.status.idle": "2025-01-13T10:41:26.913902Z",
     "shell.execute_reply": "2025-01-13T10:41:26.912621Z",
     "shell.execute_reply.started": "2025-01-13T10:41:26.896659Z"
    }
   },
   "outputs": [],
   "source": [
    "# cols_to_scale = ['step','amount','oldbalanceOrg','newbalanceOrig','oldbalanceDest','newbalanceDest']\n",
    "\n",
    "# scaler = RobustScaler()\n",
    "\n",
    "# df_scaled[cols_to_scale] = scaler.fit_transform(df[cols_to_scale])"
   ]
  },
  {
   "cell_type": "code",
   "execution_count": 52,
   "id": "e07abf29",
   "metadata": {
    "execution": {
     "iopub.execute_input": "2025-01-13T10:41:26.915490Z",
     "iopub.status.busy": "2025-01-13T10:41:26.915125Z",
     "iopub.status.idle": "2025-01-13T10:41:26.932395Z",
     "shell.execute_reply": "2025-01-13T10:41:26.931020Z",
     "shell.execute_reply.started": "2025-01-13T10:41:26.915433Z"
    }
   },
   "outputs": [],
   "source": [
    "# df_scaled.head(2)"
   ]
  },
  {
   "cell_type": "markdown",
   "id": "10562561",
   "metadata": {},
   "source": [
    "# Feature Encoding"
   ]
  },
  {
   "cell_type": "code",
   "execution_count": 53,
   "id": "dbe1e84a",
   "metadata": {
    "execution": {
     "iopub.execute_input": "2025-01-13T10:41:26.934050Z",
     "iopub.status.busy": "2025-01-13T10:41:26.933647Z",
     "iopub.status.idle": "2025-01-13T10:41:26.949131Z",
     "shell.execute_reply": "2025-01-13T10:41:26.947640Z",
     "shell.execute_reply.started": "2025-01-13T10:41:26.934007Z"
    }
   },
   "outputs": [],
   "source": [
    "# df_scaled.head(1)"
   ]
  },
  {
   "cell_type": "code",
   "execution_count": 54,
   "id": "711ac1ca",
   "metadata": {
    "execution": {
     "iopub.execute_input": "2025-01-13T10:41:26.951147Z",
     "iopub.status.busy": "2025-01-13T10:41:26.950709Z",
     "iopub.status.idle": "2025-01-13T10:41:26.968226Z",
     "shell.execute_reply": "2025-01-13T10:41:26.966703Z",
     "shell.execute_reply.started": "2025-01-13T10:41:26.951109Z"
    }
   },
   "outputs": [],
   "source": [
    "# df_scaled['transaction_type'] = df_scaled['transaction_type'].map({\"CASH_OUT\": 1, \"PAYMENT\": 2, \n",
    "#                                  \"CASH_IN\": 3, \"TRANSFER\": 4,\n",
    "#                                  \"DEBIT\": 5})\n",
    "# df_scaled.head(3)"
   ]
  },
  {
   "cell_type": "code",
   "execution_count": 55,
   "id": "e6349895",
   "metadata": {
    "execution": {
     "iopub.execute_input": "2025-01-13T10:41:26.970087Z",
     "iopub.status.busy": "2025-01-13T10:41:26.969602Z",
     "iopub.status.idle": "2025-01-13T10:41:26.986291Z",
     "shell.execute_reply": "2025-01-13T10:41:26.984854Z",
     "shell.execute_reply.started": "2025-01-13T10:41:26.970022Z"
    }
   },
   "outputs": [],
   "source": [
    "# corelation_scaled = df_scaled.corr()\n",
    "# print(corelation_scaled['isFraud'].sort_values(ascending=False))"
   ]
  },
  {
   "cell_type": "code",
   "execution_count": 56,
   "id": "7aff517d",
   "metadata": {
    "execution": {
     "iopub.execute_input": "2025-01-13T10:41:26.987928Z",
     "iopub.status.busy": "2025-01-13T10:41:26.987556Z",
     "iopub.status.idle": "2025-01-13T10:41:27.442433Z",
     "shell.execute_reply": "2025-01-13T10:41:27.440781Z",
     "shell.execute_reply.started": "2025-01-13T10:41:26.987887Z"
    },
    "scrolled": true
   },
   "outputs": [
    {
     "data": {
      "text/html": [
       "<div>\n",
       "<style scoped>\n",
       "    .dataframe tbody tr th:only-of-type {\n",
       "        vertical-align: middle;\n",
       "    }\n",
       "\n",
       "    .dataframe tbody tr th {\n",
       "        vertical-align: top;\n",
       "    }\n",
       "\n",
       "    .dataframe thead th {\n",
       "        text-align: right;\n",
       "    }\n",
       "</style>\n",
       "<table border=\"1\" class=\"dataframe\">\n",
       "  <thead>\n",
       "    <tr style=\"text-align: right;\">\n",
       "      <th></th>\n",
       "      <th>step</th>\n",
       "      <th>transaction_type</th>\n",
       "      <th>amount</th>\n",
       "      <th>oldbalanceOrg</th>\n",
       "      <th>newbalanceOrig</th>\n",
       "      <th>oldbalanceDest</th>\n",
       "      <th>newbalanceDest</th>\n",
       "      <th>isFraud</th>\n",
       "    </tr>\n",
       "  </thead>\n",
       "  <tbody>\n",
       "    <tr>\n",
       "      <th>0</th>\n",
       "      <td>1</td>\n",
       "      <td>4</td>\n",
       "      <td>181.00</td>\n",
       "      <td>181.00</td>\n",
       "      <td>0.00</td>\n",
       "      <td>0.00</td>\n",
       "      <td>0.00</td>\n",
       "      <td>1</td>\n",
       "    </tr>\n",
       "    <tr>\n",
       "      <th>1</th>\n",
       "      <td>1</td>\n",
       "      <td>1</td>\n",
       "      <td>181.00</td>\n",
       "      <td>181.00</td>\n",
       "      <td>0.00</td>\n",
       "      <td>21182.00</td>\n",
       "      <td>0.00</td>\n",
       "      <td>1</td>\n",
       "    </tr>\n",
       "    <tr>\n",
       "      <th>2</th>\n",
       "      <td>1</td>\n",
       "      <td>4</td>\n",
       "      <td>2806.00</td>\n",
       "      <td>2806.00</td>\n",
       "      <td>0.00</td>\n",
       "      <td>0.00</td>\n",
       "      <td>0.00</td>\n",
       "      <td>1</td>\n",
       "    </tr>\n",
       "  </tbody>\n",
       "</table>\n",
       "</div>"
      ],
      "text/plain": [
       "   step  transaction_type  amount  oldbalanceOrg  newbalanceOrig  \\\n",
       "0     1                 4  181.00         181.00            0.00   \n",
       "1     1                 1  181.00         181.00            0.00   \n",
       "2     1                 4 2806.00        2806.00            0.00   \n",
       "\n",
       "   oldbalanceDest  newbalanceDest  isFraud  \n",
       "0            0.00            0.00        1  \n",
       "1        21182.00            0.00        1  \n",
       "2            0.00            0.00        1  "
      ]
     },
     "execution_count": 56,
     "metadata": {},
     "output_type": "execute_result"
    }
   ],
   "source": [
    "df['transaction_type'] = df['transaction_type'].map({\"CASH_OUT\": 1, \"PAYMENT\": 2, \n",
    "                                 \"CASH_IN\": 3, \"TRANSFER\": 4,\n",
    "                                 \"DEBIT\": 5})\n",
    "df.head(3)"
   ]
  },
  {
   "cell_type": "code",
   "execution_count": 57,
   "id": "40fffa02",
   "metadata": {},
   "outputs": [
    {
     "data": {
      "text/html": [
       "<div>\n",
       "<style scoped>\n",
       "    .dataframe tbody tr th:only-of-type {\n",
       "        vertical-align: middle;\n",
       "    }\n",
       "\n",
       "    .dataframe tbody tr th {\n",
       "        vertical-align: top;\n",
       "    }\n",
       "\n",
       "    .dataframe thead th {\n",
       "        text-align: right;\n",
       "    }\n",
       "</style>\n",
       "<table border=\"1\" class=\"dataframe\">\n",
       "  <thead>\n",
       "    <tr style=\"text-align: right;\">\n",
       "      <th></th>\n",
       "      <th>step</th>\n",
       "      <th>transaction_type</th>\n",
       "      <th>amount</th>\n",
       "      <th>oldbalanceOrg</th>\n",
       "      <th>newbalanceOrig</th>\n",
       "      <th>oldbalanceDest</th>\n",
       "      <th>newbalanceDest</th>\n",
       "      <th>isFraud</th>\n",
       "    </tr>\n",
       "  </thead>\n",
       "  <tbody>\n",
       "    <tr>\n",
       "      <th>step</th>\n",
       "      <td>1.00</td>\n",
       "      <td>0.07</td>\n",
       "      <td>0.36</td>\n",
       "      <td>0.05</td>\n",
       "      <td>-0.04</td>\n",
       "      <td>-0.02</td>\n",
       "      <td>0.01</td>\n",
       "      <td>0.85</td>\n",
       "    </tr>\n",
       "    <tr>\n",
       "      <th>transaction_type</th>\n",
       "      <td>0.07</td>\n",
       "      <td>1.00</td>\n",
       "      <td>0.19</td>\n",
       "      <td>0.25</td>\n",
       "      <td>0.26</td>\n",
       "      <td>0.05</td>\n",
       "      <td>0.05</td>\n",
       "      <td>0.08</td>\n",
       "    </tr>\n",
       "    <tr>\n",
       "      <th>amount</th>\n",
       "      <td>0.36</td>\n",
       "      <td>0.19</td>\n",
       "      <td>1.00</td>\n",
       "      <td>0.17</td>\n",
       "      <td>0.00</td>\n",
       "      <td>0.10</td>\n",
       "      <td>0.24</td>\n",
       "      <td>0.40</td>\n",
       "    </tr>\n",
       "    <tr>\n",
       "      <th>oldbalanceOrg</th>\n",
       "      <td>0.05</td>\n",
       "      <td>0.25</td>\n",
       "      <td>0.17</td>\n",
       "      <td>1.00</td>\n",
       "      <td>0.98</td>\n",
       "      <td>0.09</td>\n",
       "      <td>0.07</td>\n",
       "      <td>0.05</td>\n",
       "    </tr>\n",
       "    <tr>\n",
       "      <th>newbalanceOrig</th>\n",
       "      <td>-0.04</td>\n",
       "      <td>0.26</td>\n",
       "      <td>0.00</td>\n",
       "      <td>0.98</td>\n",
       "      <td>1.00</td>\n",
       "      <td>0.09</td>\n",
       "      <td>0.06</td>\n",
       "      <td>-0.05</td>\n",
       "    </tr>\n",
       "    <tr>\n",
       "      <th>oldbalanceDest</th>\n",
       "      <td>-0.02</td>\n",
       "      <td>0.05</td>\n",
       "      <td>0.10</td>\n",
       "      <td>0.09</td>\n",
       "      <td>0.09</td>\n",
       "      <td>1.00</td>\n",
       "      <td>0.95</td>\n",
       "      <td>-0.03</td>\n",
       "    </tr>\n",
       "    <tr>\n",
       "      <th>newbalanceDest</th>\n",
       "      <td>0.01</td>\n",
       "      <td>0.05</td>\n",
       "      <td>0.24</td>\n",
       "      <td>0.07</td>\n",
       "      <td>0.06</td>\n",
       "      <td>0.95</td>\n",
       "      <td>1.00</td>\n",
       "      <td>0.01</td>\n",
       "    </tr>\n",
       "    <tr>\n",
       "      <th>isFraud</th>\n",
       "      <td>0.85</td>\n",
       "      <td>0.08</td>\n",
       "      <td>0.40</td>\n",
       "      <td>0.05</td>\n",
       "      <td>-0.05</td>\n",
       "      <td>-0.03</td>\n",
       "      <td>0.01</td>\n",
       "      <td>1.00</td>\n",
       "    </tr>\n",
       "  </tbody>\n",
       "</table>\n",
       "</div>"
      ],
      "text/plain": [
       "                  step  transaction_type  amount  oldbalanceOrg  \\\n",
       "step              1.00              0.07    0.36           0.05   \n",
       "transaction_type  0.07              1.00    0.19           0.25   \n",
       "amount            0.36              0.19    1.00           0.17   \n",
       "oldbalanceOrg     0.05              0.25    0.17           1.00   \n",
       "newbalanceOrig   -0.04              0.26    0.00           0.98   \n",
       "oldbalanceDest   -0.02              0.05    0.10           0.09   \n",
       "newbalanceDest    0.01              0.05    0.24           0.07   \n",
       "isFraud           0.85              0.08    0.40           0.05   \n",
       "\n",
       "                  newbalanceOrig  oldbalanceDest  newbalanceDest  isFraud  \n",
       "step                       -0.04           -0.02            0.01     0.85  \n",
       "transaction_type            0.26            0.05            0.05     0.08  \n",
       "amount                      0.00            0.10            0.24     0.40  \n",
       "oldbalanceOrg               0.98            0.09            0.07     0.05  \n",
       "newbalanceOrig              1.00            0.09            0.06    -0.05  \n",
       "oldbalanceDest              0.09            1.00            0.95    -0.03  \n",
       "newbalanceDest              0.06            0.95            1.00     0.01  \n",
       "isFraud                    -0.05           -0.03            0.01     1.00  "
      ]
     },
     "execution_count": 57,
     "metadata": {},
     "output_type": "execute_result"
    }
   ],
   "source": [
    "cm = df.corr()\n",
    "cm"
   ]
  },
  {
   "cell_type": "markdown",
   "id": "fff72deb",
   "metadata": {},
   "source": [
    "### Train Test Split"
   ]
  },
  {
   "cell_type": "code",
   "execution_count": 58,
   "id": "9f577567",
   "metadata": {
    "execution": {
     "iopub.execute_input": "2025-01-13T10:41:27.444011Z",
     "iopub.status.busy": "2025-01-13T10:41:27.443605Z",
     "iopub.status.idle": "2025-01-13T10:41:28.497470Z",
     "shell.execute_reply": "2025-01-13T10:41:28.496349Z",
     "shell.execute_reply.started": "2025-01-13T10:41:27.443980Z"
    }
   },
   "outputs": [],
   "source": [
    "X = df[['transaction_type','amount','oldbalanceOrg','newbalanceOrig']]\n",
    "y = df['isFraud']\n",
    "\n",
    "X_train,X_test,y_train,y_test = train_test_split(X,y,test_size=0.3,random_state=42)"
   ]
  },
  {
   "cell_type": "markdown",
   "id": "963c41ac",
   "metadata": {},
   "source": [
    "# Model Training"
   ]
  },
  {
   "cell_type": "markdown",
   "id": "80adebb8",
   "metadata": {},
   "source": [
    "## Attempt 1:\n"
   ]
  },
  {
   "cell_type": "markdown",
   "id": "052302b4",
   "metadata": {},
   "source": [
    "#### Without handling Class Imbalance"
   ]
  },
  {
   "cell_type": "code",
   "execution_count": 59,
   "id": "0a8a1f58",
   "metadata": {
    "execution": {
     "iopub.execute_input": "2025-01-13T10:41:28.498906Z",
     "iopub.status.busy": "2025-01-13T10:41:28.498547Z",
     "iopub.status.idle": "2025-01-13T10:41:28.504304Z",
     "shell.execute_reply": "2025-01-13T10:41:28.503211Z",
     "shell.execute_reply.started": "2025-01-13T10:41:28.498870Z"
    }
   },
   "outputs": [],
   "source": [
    "# Created a function that takes model, train and test data and returns a classification report.\n",
    "\n",
    "def get_report(model,X_train,y_train,X_test,y_test):\n",
    "    model.fit(X_train,y_train)\n",
    "    y_pred = model.predict(X_test)\n",
    "    report = classification_report(y_test,y_pred) \n",
    "    \n",
    "    print(report)\n",
    "    "
   ]
  },
  {
   "cell_type": "code",
   "execution_count": 60,
   "id": "294e6533",
   "metadata": {
    "execution": {
     "iopub.execute_input": "2025-01-13T10:41:28.506062Z",
     "iopub.status.busy": "2025-01-13T10:41:28.505662Z",
     "iopub.status.idle": "2025-01-13T10:42:01.561920Z",
     "shell.execute_reply": "2025-01-13T10:42:01.560687Z",
     "shell.execute_reply.started": "2025-01-13T10:41:28.506024Z"
    }
   },
   "outputs": [
    {
     "name": "stdout",
     "output_type": "stream",
     "text": [
      "              precision    recall  f1-score   support\n",
      "\n",
      "           0       1.00      0.97      0.98     60049\n",
      "           1       0.53      0.98      0.69      2415\n",
      "\n",
      "    accuracy                           0.97     62464\n",
      "   macro avg       0.77      0.97      0.84     62464\n",
      "weighted avg       0.98      0.97      0.97     62464\n",
      "\n"
     ]
    }
   ],
   "source": [
    "get_report(LogisticRegression(),X_train,y_train,X_test,y_test)"
   ]
  },
  {
   "cell_type": "code",
   "execution_count": 61,
   "id": "fcb81991",
   "metadata": {
    "execution": {
     "iopub.execute_input": "2025-01-13T10:42:01.563586Z",
     "iopub.status.busy": "2025-01-13T10:42:01.563207Z",
     "iopub.status.idle": "2025-01-13T10:42:28.532497Z",
     "shell.execute_reply": "2025-01-13T10:42:28.531195Z",
     "shell.execute_reply.started": "2025-01-13T10:42:01.563547Z"
    }
   },
   "outputs": [
    {
     "name": "stdout",
     "output_type": "stream",
     "text": [
      "              precision    recall  f1-score   support\n",
      "\n",
      "           0       1.00      1.00      1.00     60049\n",
      "           1       0.96      0.98      0.97      2415\n",
      "\n",
      "    accuracy                           1.00     62464\n",
      "   macro avg       0.98      0.99      0.98     62464\n",
      "weighted avg       1.00      1.00      1.00     62464\n",
      "\n"
     ]
    }
   ],
   "source": [
    "get_report(DecisionTreeClassifier(),X_train,y_train,X_test,y_test)"
   ]
  },
  {
   "cell_type": "code",
   "execution_count": 62,
   "id": "8333352c",
   "metadata": {
    "execution": {
     "iopub.execute_input": "2025-01-13T10:42:58.694900Z",
     "iopub.status.busy": "2025-01-13T10:42:58.694467Z",
     "iopub.status.idle": "2025-01-13T10:42:58.699576Z",
     "shell.execute_reply": "2025-01-13T10:42:58.698193Z",
     "shell.execute_reply.started": "2025-01-13T10:42:58.694866Z"
    }
   },
   "outputs": [
    {
     "name": "stdout",
     "output_type": "stream",
     "text": [
      "              precision    recall  f1-score   support\n",
      "\n",
      "           0       1.00      1.00      1.00     60049\n",
      "           1       0.95      0.99      0.97      2415\n",
      "\n",
      "    accuracy                           1.00     62464\n",
      "   macro avg       0.97      0.99      0.98     62464\n",
      "weighted avg       1.00      1.00      1.00     62464\n",
      "\n"
     ]
    }
   ],
   "source": [
    "get_report(DecisionTreeClassifier(criterion='entropy',max_depth=15,min_samples_split=30,random_state=42),X_train,y_train,X_test,y_test)"
   ]
  },
  {
   "cell_type": "code",
   "execution_count": 63,
   "id": "48451033",
   "metadata": {
    "execution": {
     "iopub.execute_input": "2025-01-13T10:44:36.504515Z",
     "iopub.status.busy": "2025-01-13T10:44:36.504190Z",
     "iopub.status.idle": "2025-01-13T10:58:52.926568Z",
     "shell.execute_reply": "2025-01-13T10:58:52.925312Z",
     "shell.execute_reply.started": "2025-01-13T10:44:36.504491Z"
    }
   },
   "outputs": [
    {
     "name": "stdout",
     "output_type": "stream",
     "text": [
      "              precision    recall  f1-score   support\n",
      "\n",
      "           0       1.00      0.99      1.00     60049\n",
      "           1       0.89      0.99      0.94      2415\n",
      "\n",
      "    accuracy                           0.99     62464\n",
      "   macro avg       0.94      0.99      0.97     62464\n",
      "weighted avg       1.00      0.99      0.99     62464\n",
      "\n"
     ]
    }
   ],
   "source": [
    "get_report(RandomForestClassifier(n_estimators=300, \n",
    "    max_depth=10, \n",
    "    min_samples_leaf=5, \n",
    "    min_samples_split=10, \n",
    "    class_weight={0:1, 1:5}, \n",
    "    max_features='sqrt',\n",
    "    bootstrap=True,\n",
    "    random_state=42),X_train,y_train,X_test,y_test)"
   ]
  },
  {
   "cell_type": "markdown",
   "id": "c7827223",
   "metadata": {},
   "source": [
    "### Insights:\n",
    "\n",
    "LogiticRegression Model : recall = 0.36 , precision = 0.86\n",
    "\n",
    "DecsionTreeClassifier Model : recall = 0.86 , precision =0.88\n",
    "\n",
    "RandomForestClassfier Model : recall = 0.87, precision = 0.90"
   ]
  },
  {
   "cell_type": "markdown",
   "id": "cb7477c1",
   "metadata": {},
   "source": [
    "## Attempt 2:"
   ]
  },
  {
   "cell_type": "markdown",
   "id": "cd8cbe12",
   "metadata": {},
   "source": [
    "#### Handling Class Imbalance using Smote, RandomUnderSampler Techniques:"
   ]
  },
  {
   "cell_type": "markdown",
   "id": "011a68a5",
   "metadata": {},
   "source": [
    "#### Using SMOTE"
   ]
  },
  {
   "cell_type": "code",
   "execution_count": 64,
   "id": "ae5a27d3",
   "metadata": {
    "execution": {
     "iopub.execute_input": "2025-01-13T11:00:49.866821Z",
     "iopub.status.busy": "2025-01-13T11:00:49.866424Z",
     "iopub.status.idle": "2025-01-13T11:00:50.081507Z",
     "shell.execute_reply": "2025-01-13T11:00:50.080496Z",
     "shell.execute_reply.started": "2025-01-13T11:00:49.866793Z"
    }
   },
   "outputs": [],
   "source": [
    "from imblearn.over_sampling import SMOTE"
   ]
  },
  {
   "cell_type": "code",
   "execution_count": 65,
   "id": "b1d0bea6",
   "metadata": {
    "execution": {
     "iopub.execute_input": "2025-01-13T11:00:51.428181Z",
     "iopub.status.busy": "2025-01-13T11:00:51.427614Z",
     "iopub.status.idle": "2025-01-13T11:00:54.192695Z",
     "shell.execute_reply": "2025-01-13T11:00:54.191609Z",
     "shell.execute_reply.started": "2025-01-13T11:00:51.428149Z"
    }
   },
   "outputs": [],
   "source": [
    "smt = SMOTE(random_state=42)\n",
    "\n",
    "X_resampled,y_resampled = smt.fit_resample(X,y)"
   ]
  },
  {
   "cell_type": "code",
   "execution_count": 66,
   "id": "60279c9b",
   "metadata": {
    "execution": {
     "iopub.status.busy": "2025-01-13T10:42:43.579304Z",
     "iopub.status.idle": "2025-01-13T10:42:43.579656Z",
     "shell.execute_reply": "2025-01-13T10:42:43.579509Z"
    }
   },
   "outputs": [
    {
     "name": "stdout",
     "output_type": "stream",
     "text": [
      "              precision    recall  f1-score   support\n",
      "\n",
      "           0       1.00      0.86      0.92     60049\n",
      "           1       0.22      0.99      0.35      2415\n",
      "\n",
      "    accuracy                           0.86     62464\n",
      "   macro avg       0.61      0.92      0.64     62464\n",
      "weighted avg       0.97      0.86      0.90     62464\n",
      "\n"
     ]
    }
   ],
   "source": [
    "get_report(LogisticRegression(),X_resampled,y_resampled,X_test,y_test)"
   ]
  },
  {
   "cell_type": "code",
   "execution_count": 67,
   "id": "565dd058",
   "metadata": {
    "execution": {
     "iopub.status.busy": "2025-01-13T10:42:43.580617Z",
     "iopub.status.idle": "2025-01-13T10:42:43.581231Z",
     "shell.execute_reply": "2025-01-13T10:42:43.580954Z"
    }
   },
   "outputs": [
    {
     "name": "stdout",
     "output_type": "stream",
     "text": [
      "              precision    recall  f1-score   support\n",
      "\n",
      "           0       1.00      1.00      1.00     60049\n",
      "           1       1.00      1.00      1.00      2415\n",
      "\n",
      "    accuracy                           1.00     62464\n",
      "   macro avg       1.00      1.00      1.00     62464\n",
      "weighted avg       1.00      1.00      1.00     62464\n",
      "\n"
     ]
    }
   ],
   "source": [
    "get_report(DecisionTreeClassifier(),X_resampled,y_resampled,X_test,y_test)"
   ]
  },
  {
   "cell_type": "code",
   "execution_count": 68,
   "id": "4451a6bc",
   "metadata": {
    "execution": {
     "iopub.execute_input": "2025-01-13T11:01:10.847561Z",
     "iopub.status.busy": "2025-01-13T11:01:10.847195Z",
     "iopub.status.idle": "2025-01-13T11:59:05.690218Z",
     "shell.execute_reply": "2025-01-13T11:59:05.687490Z",
     "shell.execute_reply.started": "2025-01-13T11:01:10.847533Z"
    }
   },
   "outputs": [
    {
     "name": "stdout",
     "output_type": "stream",
     "text": [
      "              precision    recall  f1-score   support\n",
      "\n",
      "           0       1.00      1.00      1.00     60049\n",
      "           1       1.00      1.00      1.00      2415\n",
      "\n",
      "    accuracy                           1.00     62464\n",
      "   macro avg       1.00      1.00      1.00     62464\n",
      "weighted avg       1.00      1.00      1.00     62464\n",
      "\n"
     ]
    }
   ],
   "source": [
    "get_report(RandomForestClassifier(),X_resampled,y_resampled,X_test,y_test)"
   ]
  },
  {
   "cell_type": "markdown",
   "id": "72bd486f",
   "metadata": {},
   "source": [
    "#### Using RandomUnderSampler:"
   ]
  },
  {
   "cell_type": "code",
   "execution_count": 69,
   "id": "495b2d21",
   "metadata": {
    "execution": {
     "iopub.execute_input": "2025-01-13T12:03:28.418351Z",
     "iopub.status.busy": "2025-01-13T12:03:28.417912Z",
     "iopub.status.idle": "2025-01-13T12:03:28.428234Z",
     "shell.execute_reply": "2025-01-13T12:03:28.426751Z",
     "shell.execute_reply.started": "2025-01-13T12:03:28.418319Z"
    }
   },
   "outputs": [],
   "source": [
    "from imblearn.under_sampling import RandomUnderSampler"
   ]
  },
  {
   "cell_type": "code",
   "execution_count": 70,
   "id": "9ec98a04",
   "metadata": {
    "execution": {
     "iopub.execute_input": "2025-01-13T12:03:30.301422Z",
     "iopub.status.busy": "2025-01-13T12:03:30.300970Z",
     "iopub.status.idle": "2025-01-13T12:03:32.357000Z",
     "shell.execute_reply": "2025-01-13T12:03:32.355738Z",
     "shell.execute_reply.started": "2025-01-13T12:03:30.301391Z"
    }
   },
   "outputs": [],
   "source": [
    "under_sampler= RandomUnderSampler(random_state=42)\n",
    "\n",
    "X_under,y_under = under_sampler.fit_resample(X,y)"
   ]
  },
  {
   "cell_type": "code",
   "execution_count": 71,
   "id": "60d25428",
   "metadata": {
    "execution": {
     "iopub.status.busy": "2025-01-13T10:42:43.587711Z",
     "iopub.status.idle": "2025-01-13T10:42:43.588152Z",
     "shell.execute_reply": "2025-01-13T10:42:43.587974Z"
    }
   },
   "outputs": [
    {
     "name": "stdout",
     "output_type": "stream",
     "text": [
      "              precision    recall  f1-score   support\n",
      "\n",
      "           0       1.00      0.85      0.92     60049\n",
      "           1       0.21      0.99      0.35      2415\n",
      "\n",
      "    accuracy                           0.86     62464\n",
      "   macro avg       0.61      0.92      0.64     62464\n",
      "weighted avg       0.97      0.86      0.90     62464\n",
      "\n"
     ]
    }
   ],
   "source": [
    "get_report(LogisticRegression(),X_under,y_under,X_test,y_test)"
   ]
  },
  {
   "cell_type": "code",
   "execution_count": 72,
   "id": "4e0a2d7f",
   "metadata": {
    "execution": {
     "iopub.status.busy": "2025-01-13T10:42:43.589600Z",
     "iopub.status.idle": "2025-01-13T10:42:43.589913Z",
     "shell.execute_reply": "2025-01-13T10:42:43.589785Z"
    }
   },
   "outputs": [
    {
     "name": "stdout",
     "output_type": "stream",
     "text": [
      "              precision    recall  f1-score   support\n",
      "\n",
      "           0       1.00      0.99      1.00     60049\n",
      "           1       0.82      1.00      0.90      2415\n",
      "\n",
      "    accuracy                           0.99     62464\n",
      "   macro avg       0.91      1.00      0.95     62464\n",
      "weighted avg       0.99      0.99      0.99     62464\n",
      "\n"
     ]
    }
   ],
   "source": [
    "get_report(DecisionTreeClassifier(),X_under,y_under,X_test,y_test)"
   ]
  },
  {
   "cell_type": "code",
   "execution_count": 73,
   "id": "dbbf7437",
   "metadata": {
    "execution": {
     "iopub.execute_input": "2025-01-13T12:03:48.515707Z",
     "iopub.status.busy": "2025-01-13T12:03:48.515090Z",
     "iopub.status.idle": "2025-01-13T12:04:07.675192Z",
     "shell.execute_reply": "2025-01-13T12:04:07.673694Z",
     "shell.execute_reply.started": "2025-01-13T12:03:48.515653Z"
    }
   },
   "outputs": [],
   "source": [
    "# get_report(RandomForestClassifier(),X_under,y_under,X_test,y_test)"
   ]
  },
  {
   "cell_type": "markdown",
   "id": "bf71d032",
   "metadata": {},
   "source": [
    "## Model Fine Tuning"
   ]
  },
  {
   "cell_type": "code",
   "execution_count": 74,
   "id": "762f2281",
   "metadata": {
    "execution": {
     "iopub.execute_input": "2025-01-13T12:04:29.613849Z",
     "iopub.status.busy": "2025-01-13T12:04:29.613482Z",
     "iopub.status.idle": "2025-01-13T12:18:56.054362Z",
     "shell.execute_reply": "2025-01-13T12:18:56.053244Z",
     "shell.execute_reply.started": "2025-01-13T12:04:29.613823Z"
    }
   },
   "outputs": [
    {
     "data": {
      "text/html": [
       "<style>#sk-container-id-1 {color: black;background-color: white;}#sk-container-id-1 pre{padding: 0;}#sk-container-id-1 div.sk-toggleable {background-color: white;}#sk-container-id-1 label.sk-toggleable__label {cursor: pointer;display: block;width: 100%;margin-bottom: 0;padding: 0.3em;box-sizing: border-box;text-align: center;}#sk-container-id-1 label.sk-toggleable__label-arrow:before {content: \"▸\";float: left;margin-right: 0.25em;color: #696969;}#sk-container-id-1 label.sk-toggleable__label-arrow:hover:before {color: black;}#sk-container-id-1 div.sk-estimator:hover label.sk-toggleable__label-arrow:before {color: black;}#sk-container-id-1 div.sk-toggleable__content {max-height: 0;max-width: 0;overflow: hidden;text-align: left;background-color: #f0f8ff;}#sk-container-id-1 div.sk-toggleable__content pre {margin: 0.2em;color: black;border-radius: 0.25em;background-color: #f0f8ff;}#sk-container-id-1 input.sk-toggleable__control:checked~div.sk-toggleable__content {max-height: 200px;max-width: 100%;overflow: auto;}#sk-container-id-1 input.sk-toggleable__control:checked~label.sk-toggleable__label-arrow:before {content: \"▾\";}#sk-container-id-1 div.sk-estimator input.sk-toggleable__control:checked~label.sk-toggleable__label {background-color: #d4ebff;}#sk-container-id-1 div.sk-label input.sk-toggleable__control:checked~label.sk-toggleable__label {background-color: #d4ebff;}#sk-container-id-1 input.sk-hidden--visually {border: 0;clip: rect(1px 1px 1px 1px);clip: rect(1px, 1px, 1px, 1px);height: 1px;margin: -1px;overflow: hidden;padding: 0;position: absolute;width: 1px;}#sk-container-id-1 div.sk-estimator {font-family: monospace;background-color: #f0f8ff;border: 1px dotted black;border-radius: 0.25em;box-sizing: border-box;margin-bottom: 0.5em;}#sk-container-id-1 div.sk-estimator:hover {background-color: #d4ebff;}#sk-container-id-1 div.sk-parallel-item::after {content: \"\";width: 100%;border-bottom: 1px solid gray;flex-grow: 1;}#sk-container-id-1 div.sk-label:hover label.sk-toggleable__label {background-color: #d4ebff;}#sk-container-id-1 div.sk-serial::before {content: \"\";position: absolute;border-left: 1px solid gray;box-sizing: border-box;top: 0;bottom: 0;left: 50%;z-index: 0;}#sk-container-id-1 div.sk-serial {display: flex;flex-direction: column;align-items: center;background-color: white;padding-right: 0.2em;padding-left: 0.2em;position: relative;}#sk-container-id-1 div.sk-item {position: relative;z-index: 1;}#sk-container-id-1 div.sk-parallel {display: flex;align-items: stretch;justify-content: center;background-color: white;position: relative;}#sk-container-id-1 div.sk-item::before, #sk-container-id-1 div.sk-parallel-item::before {content: \"\";position: absolute;border-left: 1px solid gray;box-sizing: border-box;top: 0;bottom: 0;left: 50%;z-index: -1;}#sk-container-id-1 div.sk-parallel-item {display: flex;flex-direction: column;z-index: 1;position: relative;background-color: white;}#sk-container-id-1 div.sk-parallel-item:first-child::after {align-self: flex-end;width: 50%;}#sk-container-id-1 div.sk-parallel-item:last-child::after {align-self: flex-start;width: 50%;}#sk-container-id-1 div.sk-parallel-item:only-child::after {width: 0;}#sk-container-id-1 div.sk-dashed-wrapped {border: 1px dashed gray;margin: 0 0.4em 0.5em 0.4em;box-sizing: border-box;padding-bottom: 0.4em;background-color: white;}#sk-container-id-1 div.sk-label label {font-family: monospace;font-weight: bold;display: inline-block;line-height: 1.2em;}#sk-container-id-1 div.sk-label-container {text-align: center;}#sk-container-id-1 div.sk-container {/* jupyter's `normalize.less` sets `[hidden] { display: none; }` but bootstrap.min.css set `[hidden] { display: none !important; }` so we also need the `!important` here to be able to override the default hidden behavior on the sphinx rendered scikit-learn.org. See: https://github.com/scikit-learn/scikit-learn/issues/21755 */display: inline-block !important;position: relative;}#sk-container-id-1 div.sk-text-repr-fallback {display: none;}</style><div id=\"sk-container-id-1\" class=\"sk-top-container\"><div class=\"sk-text-repr-fallback\"><pre>RandomForestClassifier(class_weight={0: 1, 1: 5}, max_depth=10,\n",
       "                       min_samples_leaf=5, min_samples_split=10,\n",
       "                       n_estimators=300, random_state=42)</pre><b>In a Jupyter environment, please rerun this cell to show the HTML representation or trust the notebook. <br />On GitHub, the HTML representation is unable to render, please try loading this page with nbviewer.org.</b></div><div class=\"sk-container\" hidden><div class=\"sk-item\"><div class=\"sk-estimator sk-toggleable\"><input class=\"sk-toggleable__control sk-hidden--visually\" id=\"sk-estimator-id-1\" type=\"checkbox\" checked><label for=\"sk-estimator-id-1\" class=\"sk-toggleable__label sk-toggleable__label-arrow\">RandomForestClassifier</label><div class=\"sk-toggleable__content\"><pre>RandomForestClassifier(class_weight={0: 1, 1: 5}, max_depth=10,\n",
       "                       min_samples_leaf=5, min_samples_split=10,\n",
       "                       n_estimators=300, random_state=42)</pre></div></div></div></div></div>"
      ],
      "text/plain": [
       "RandomForestClassifier(class_weight={0: 1, 1: 5}, max_depth=10,\n",
       "                       min_samples_leaf=5, min_samples_split=10,\n",
       "                       n_estimators=300, random_state=42)"
      ]
     },
     "execution_count": 74,
     "metadata": {},
     "output_type": "execute_result"
    }
   ],
   "source": [
    "best_model = RandomForestClassifier(n_estimators=300, \n",
    "    max_depth=10, \n",
    "    min_samples_leaf=5, \n",
    "    min_samples_split=10, \n",
    "    class_weight={0:1, 1:5}, \n",
    "    max_features='sqrt',\n",
    "    bootstrap=True,\n",
    "    random_state=42)\n",
    "best_model.fit(X_train,y_train)"
   ]
  },
  {
   "cell_type": "code",
   "execution_count": 75,
   "id": "6085e076",
   "metadata": {
    "execution": {
     "iopub.execute_input": "2025-01-13T12:24:11.372307Z",
     "iopub.status.busy": "2025-01-13T12:24:11.371919Z",
     "iopub.status.idle": "2025-01-13T12:24:29.501362Z",
     "shell.execute_reply": "2025-01-13T12:24:29.500167Z",
     "shell.execute_reply.started": "2025-01-13T12:24:11.372275Z"
    }
   },
   "outputs": [
    {
     "name": "stdout",
     "output_type": "stream",
     "text": [
      "              precision    recall  f1-score   support\n",
      "\n",
      "           0       1.00      0.99      1.00     60049\n",
      "           1       0.89      0.99      0.94      2415\n",
      "\n",
      "    accuracy                           0.99     62464\n",
      "   macro avg       0.94      0.99      0.97     62464\n",
      "weighted avg       1.00      0.99      0.99     62464\n",
      "\n"
     ]
    }
   ],
   "source": [
    "y_pred = best_model.predict(X_test)\n",
    "\n",
    "print(classification_report(y_test,y_pred))\n"
   ]
  },
  {
   "cell_type": "markdown",
   "id": "c9e46460",
   "metadata": {},
   "source": [
    "### Our Best model is RandomForestClassifier with recall 99% and precision 93%"
   ]
  },
  {
   "cell_type": "markdown",
   "id": "0ee3d18d",
   "metadata": {},
   "source": [
    "# Model Evaluation Roc,Auc Curve:"
   ]
  },
  {
   "cell_type": "code",
   "execution_count": 76,
   "id": "64d2f392",
   "metadata": {
    "execution": {
     "iopub.execute_input": "2025-01-13T12:25:08.892334Z",
     "iopub.status.busy": "2025-01-13T12:25:08.891895Z",
     "iopub.status.idle": "2025-01-13T12:25:09.014140Z",
     "shell.execute_reply": "2025-01-13T12:25:09.012815Z",
     "shell.execute_reply.started": "2025-01-13T12:25:08.892304Z"
    }
   },
   "outputs": [
    {
     "data": {
      "text/plain": [
       "(array([0.       , 0.0051458, 1.       ]),\n",
       " array([0.        , 0.99461698, 1.        ]),\n",
       " array([2, 1, 0], dtype=int64))"
      ]
     },
     "execution_count": 76,
     "metadata": {},
     "output_type": "execute_result"
    }
   ],
   "source": [
    "fpr, tpr, thresholds = roc_curve(y_test,y_pred)\n",
    "fpr[:5], tpr [:5],thresholds[:5]"
   ]
  },
  {
   "cell_type": "code",
   "execution_count": 77,
   "id": "4d07d770",
   "metadata": {
    "execution": {
     "iopub.execute_input": "2025-01-13T12:25:11.501996Z",
     "iopub.status.busy": "2025-01-13T12:25:11.501589Z",
     "iopub.status.idle": "2025-01-13T12:25:11.508746Z",
     "shell.execute_reply": "2025-01-13T12:25:11.507591Z",
     "shell.execute_reply.started": "2025-01-13T12:25:11.501968Z"
    }
   },
   "outputs": [
    {
     "name": "stdout",
     "output_type": "stream",
     "text": [
      "Area Under the Curve = 0.99\n"
     ]
    }
   ],
   "source": [
    "auc_score = auc(fpr,tpr)\n",
    "print(f\"Area Under the Curve = {round(auc_score,2)}\")"
   ]
  },
  {
   "cell_type": "code",
   "execution_count": 78,
   "id": "2629b5bb",
   "metadata": {
    "execution": {
     "iopub.execute_input": "2025-01-13T12:25:14.767981Z",
     "iopub.status.busy": "2025-01-13T12:25:14.767600Z",
     "iopub.status.idle": "2025-01-13T12:25:15.049008Z",
     "shell.execute_reply": "2025-01-13T12:25:15.047618Z",
     "shell.execute_reply.started": "2025-01-13T12:25:14.767951Z"
    }
   },
   "outputs": [
    {
     "data": {
      "image/png": "[encoded data removed]",
      "text/plain": [
       "<Figure size 800x600 with 1 Axes>"
      ]
     },
     "metadata": {},
     "output_type": "display_data"
    }
   ],
   "source": [
    "# Plot the ROC curve\n",
    "plt.figure(figsize=(8, 6))\n",
    "plt.plot(fpr, tpr, label=f\"AUC = {auc_score:.2f}\", color='darkorange', lw=2)\n",
    "plt.plot([0, 1], [0, 1], color='navy', linestyle='--', label='Random Guess')\n",
    "plt.xlabel(\"False Positive Rate (FPR)\")\n",
    "plt.ylabel(\"True Positive Rate (TPR)\")\n",
    "plt.title(\"ROC Curve\")\n",
    "plt.legend(loc=\"lower right\")\n",
    "plt.grid()\n",
    "plt.show()"
   ]
  },
  {
   "cell_type": "code",
   "execution_count": 79,
   "id": "f55ce29c",
   "metadata": {
    "execution": {
     "iopub.execute_input": "2025-01-13T12:25:18.118323Z",
     "iopub.status.busy": "2025-01-13T12:25:18.117925Z",
     "iopub.status.idle": "2025-01-13T12:25:18.132500Z",
     "shell.execute_reply": "2025-01-13T12:25:18.130919Z",
     "shell.execute_reply.started": "2025-01-13T12:25:18.118293Z"
    }
   },
   "outputs": [
    {
     "data": {
      "text/html": [
       "<div>\n",
       "<style scoped>\n",
       "    .dataframe tbody tr th:only-of-type {\n",
       "        vertical-align: middle;\n",
       "    }\n",
       "\n",
       "    .dataframe tbody tr th {\n",
       "        vertical-align: top;\n",
       "    }\n",
       "\n",
       "    .dataframe thead th {\n",
       "        text-align: right;\n",
       "    }\n",
       "</style>\n",
       "<table border=\"1\" class=\"dataframe\">\n",
       "  <thead>\n",
       "    <tr style=\"text-align: right;\">\n",
       "      <th></th>\n",
       "      <th>transaction_type</th>\n",
       "      <th>amount</th>\n",
       "      <th>oldbalanceOrg</th>\n",
       "      <th>newbalanceOrig</th>\n",
       "    </tr>\n",
       "  </thead>\n",
       "  <tbody>\n",
       "    <tr>\n",
       "      <th>0</th>\n",
       "      <td>4</td>\n",
       "      <td>181.00</td>\n",
       "      <td>181.00</td>\n",
       "      <td>0.00</td>\n",
       "    </tr>\n",
       "    <tr>\n",
       "      <th>1</th>\n",
       "      <td>1</td>\n",
       "      <td>181.00</td>\n",
       "      <td>181.00</td>\n",
       "      <td>0.00</td>\n",
       "    </tr>\n",
       "  </tbody>\n",
       "</table>\n",
       "</div>"
      ],
      "text/plain": [
       "   transaction_type  amount  oldbalanceOrg  newbalanceOrig\n",
       "0                 4  181.00         181.00            0.00\n",
       "1                 1  181.00         181.00            0.00"
      ]
     },
     "execution_count": 79,
     "metadata": {},
     "output_type": "execute_result"
    }
   ],
   "source": [
    "X.head(2)"
   ]
  },
  {
   "cell_type": "code",
   "execution_count": 80,
   "id": "8d8e2db1",
   "metadata": {
    "execution": {
     "iopub.execute_input": "2025-01-13T12:29:28.608599Z",
     "iopub.status.busy": "2025-01-13T12:29:28.608271Z",
     "iopub.status.idle": "2025-01-13T12:29:28.626379Z",
     "shell.execute_reply": "2025-01-13T12:29:28.625285Z",
     "shell.execute_reply.started": "2025-01-13T12:29:28.608574Z"
    }
   },
   "outputs": [
    {
     "name": "stdout",
     "output_type": "stream",
     "text": [
      "Not a Fraud\n"
     ]
    }
   ],
   "source": [
    "value = best_model.predict([[1,100023440,200000,25000]])\n",
    "value\n",
    "if value== 0:\n",
    "    print(\"Not a Fraud\")\n",
    "else:\n",
    "    print(\"Fraud\")    "
   ]
  },
  {
   "cell_type": "code",
   "execution_count": 89,
   "id": "3c70c9b4",
   "metadata": {
    "execution": {
     "iopub.execute_input": "2025-01-13T12:36:48.102295Z",
     "iopub.status.busy": "2025-01-13T12:36:48.101858Z",
     "iopub.status.idle": "2025-01-13T12:36:48.200736Z",
     "shell.execute_reply": "2025-01-13T12:36:48.199457Z",
     "shell.execute_reply.started": "2025-01-13T12:36:48.102264Z"
    }
   },
   "outputs": [
    {
     "data": {
      "text/plain": [
       "['c://Users//adinr//Downloads/fraud_detection_model.pkl']"
      ]
     },
     "execution_count": 89,
     "metadata": {},
     "output_type": "execute_result"
    }
   ],
   "source": [
    "from joblib import dump\n",
    "\n",
    "model_data = {\n",
    "    'model':best_model,\n",
    "    'features':X_train.columns,\n",
    "    'label_mapping': {0: 'Not Fraud', 1: 'Fraud'} \n",
    "}\n",
    "\n",
    "dump(model_data, 'c://Users//adinr//Downloads/fraud_detection_model.pkl')\n"
   ]
  },
  {
   "cell_type": "code",
   "execution_count": 88,
   "id": "e68abf2a",
   "metadata": {},
   "outputs": [
    {
     "name": "stdout",
     "output_type": "stream",
     "text": [
      "False\n"
     ]
    }
   ],
   "source": [
    "import os\n",
    "print(os.path.exists('c:\\\\Users\\\\adinr\\\\Downloads\\fraud_detection_model.pkl'))  # Should return True\n"
   ]
  },
  {
   "cell_type": "code",
   "execution_count": 87,
   "id": "318bce1c-b6e5-4aab-9939-b14c836cdb6d",
   "metadata": {},
   "outputs": [
    {
     "data": {
      "text/plain": [
       "'c:\\\\Users\\\\adinr\\\\Downloads\\\\Online Payment Fraud Detection Project\\\\online-payment-fraud-detection'"
      ]
     },
     "execution_count": 87,
     "metadata": {},
     "output_type": "execute_result"
    }
   ],
   "source": [
    "pwd"
   ]
  }
 ],
 "metadata": {
  "kaggle": {
   "accelerator": "none",
   "dataSources": [
    {
     "datasetId": 6474748,
     "sourceId": 10458829,
     "sourceType": "datasetVersion"
    }
   ],
   "dockerImageVersionId": 30822,
   "isGpuEnabled": false,
   "isInternetEnabled": false,
   "language": "python",
   "sourceType": "notebook"
  },
  "kernelspec": {
   "display_name": "base",
   "language": "python",
   "name": "python3"
  },
  "language_info": {
   "codemirror_mode": {
    "name": "ipython",
    "version": 3
   },
   "file_extension": ".py",
   "mimetype": "text/x-python",
   "name": "python",
   "nbconvert_exporter": "python",
   "pygments_lexer": "ipython3",
   "version": "3.11.5"
  }
 },
 "nbformat": 4,
 "nbformat_minor": 5
}
